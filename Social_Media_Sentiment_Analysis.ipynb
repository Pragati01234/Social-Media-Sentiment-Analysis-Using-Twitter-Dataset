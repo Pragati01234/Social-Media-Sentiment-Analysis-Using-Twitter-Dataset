{
  "nbformat": 4,
  "nbformat_minor": 0,
  "metadata": {
    "kernelspec": {
      "display_name": "Python 3",
      "language": "python",
      "name": "python3"
    },
    "language_info": {
      "codemirror_mode": {
        "name": "ipython",
        "version": 3
      },
      "file_extension": ".py",
      "mimetype": "text/x-python",
      "name": "python",
      "nbconvert_exporter": "python",
      "pygments_lexer": "ipython3",
      "version": "3.7.1"
    },
    "colab": {
      "name": "Social Media Sentiment Analysis.ipynb",
      "provenance": [],
      "collapsed_sections": []
    },
    "accelerator": "GPU"
  },
  "cells": [
    {
      "cell_type": "markdown",
      "metadata": {
        "id": "iuTYaFoa2DdF"
      },
      "source": [
        "# Practical Sentiment Analysis for Social Media: From Zero to BERT\n",
        "\n",
        "When I first researched about sentiment analysis, it seemed that most of the resources/artices on the subject were about academic and clean datasets. For instance there are hundreds of tutorials out there about how to classify movie reviews from the super-popular IMDB dataset. Yet information about real world sentiment analysis, like how to deal with messy social media messages, is hard to find.\n",
        "\n",
        "I assume this is because people tend to gravitate towards commonly-used datasets, but also because dealing with social media messages is a tough problem that has not been fully cracked yet. Sarcasm, humour, subjectivity, smileys... there are many challenges along the way.\n",
        "\n",
        "The good news is that there has been major improvements of the standard techniques in the NLP toolbox during the past few years, notably with the introduction of large pre-trained models based on the Transformer architecture like BERT. These new models enable much richer and comprehensive representations of messages which can be used to classify sentiment more accurately.\n",
        "\n",
        "I wrote this post to share some of what I learned in my journey building [BrandImage.io](https://brandimage.io), an online tool to better understand what people like/dislike about a given company and its products. I hope you'll find it useful as a starting point to learn how to build robust pipelines to deal with social media messages.\n",
        "\n",
        "The goal here is not to beat the state-of-the-art accuracy but to offer a **practical guide** to the problem, so we will focus on straightforward and scalable solutions. Most attention will be given to different ways of pre-processing and representing the messages for classification, which in my experience is where 80% of the performance improvement happens! We will not build a large/deep model for the classification as this would make deployment harder. However we will look at BERT embeddings towards the end if you are interested in using more advanced representations.\n"
      ]
    },
    {
      "cell_type": "markdown",
      "metadata": {
        "id": "UjrHiW3GGHVt"
      },
      "source": [
        "## Data Preprocessing\n",
        "\n",
        "To illustrate the problem, we will use tweets from the **SemEval-2017** competition, where teams compete in various Twitter classification challenges. We will use the combined data of all the previous years for the Task 4-A, which you can [download here](http://alt.qcri.org/semeval2017/task4/index.php?id=data-and-tools). For more details about the task and winning teams, you can also have a look at the [official SemEval-2017 Task 4 paper](https://arxiv.org/pdf/1912.00741.pdf).\n",
        "\n",
        "The objective will be to classify tweets in 3 buckets: negative, positive or neutral."
      ]
    },
    {
      "cell_type": "code",
      "metadata": {
        "id": "f4LGrAaD2DdI",
        "colab": {
          "base_uri": "https://localhost:8080/",
          "height": 337
        },
        "outputId": "09b5abb2-fe2a-4898-cf17-19ad90b5dfe0"
      },
      "source": [
        "import os, re, html, csv\n",
        "import numpy as np\n",
        "import pandas as pd\n",
        "\n",
        "data_dir = 'Subtask_A/'\n",
        "train_files = [\n",
        "    'twitter-2013train-A.tsv',\n",
        "    'twitter-2013dev-A.tsv',\n",
        "    'twitter-2013test-A.tsv',\n",
        "    'twitter-2014sarcasm-A.tsv', \n",
        "    'twitter-2014test-A.tsv',\n",
        "    'twitter-2015train-A.tsv',\n",
        "    'twitter-2015test-A.tsv',\n",
        "    'twitter-2016train-A.tsv',\n",
        "    'twitter-2016dev-A.tsv',\n",
        "    'twitter-2016devtest-A.tsv',\n",
        "    'twitter-2016test-A.tsv',\n",
        "]\n",
        "\n",
        "def load_dataframe(file_path):\n",
        "    return pd.read_csv(\n",
        "        file_path, \n",
        "        sep='\\t',\n",
        "        quoting=csv.QUOTE_NONE,\n",
        "        usecols=[0,1,2],\n",
        "        names=['id', 'label', 'message'],\n",
        "        index_col=0,\n",
        "        dtype={'label': 'category'})\n",
        "\n",
        "train_dfs = []\n",
        "for f in train_files:\n",
        "    train_dfs.append(load_dataframe(os.path.join(data_dir, 'downloaded/', f)))\n",
        "tweets_train = pd.concat(train_dfs)\n",
        "tweets_train.drop_duplicates(inplace=True)\n",
        "tweets_train = tweets_train.sample(frac=1.0, random_state=42)\n",
        "\n",
        "# Clean and prepare messages:\n",
        "def preprocess_messages(messages):\n",
        "    messages = messages.str.decode('unicode_escape', errors='ignore')\n",
        "    messages = messages.apply(html.unescape)\n",
        "    messages = messages.str.strip('\"')  # remove left-most and right-most \"\n",
        "    messages = messages.str.replace('\"\"', '\"', regex=False)\n",
        "    return messages\n",
        "tweets_train['message'] = preprocess_messages(tweets_train['message'])\n",
        "\n",
        "tweets_train_y = tweets_train['label'].cat.codes\n",
        "labels = tweets_train.label.cat.categories.tolist()\n",
        "labels_codes = {}\n",
        "for i, label in enumerate(labels):\n",
        "    labels_codes[label] = i\n",
        "\n",
        "print('Total number of examples for training: {}\\nDistribution of classes:\\n{}'.format(\n",
        "    len(tweets_train),\n",
        "    tweets_train['label'].value_counts() / len(tweets_train),\n",
        "))\n",
        "\n",
        "tweets_train.head()"
      ],
      "execution_count": null,
      "outputs": [
        {
          "output_type": "stream",
          "text": [
            "Total number of examples for training: 49675\n",
            "Distribution of classes:\n",
            "neutral     0.448032\n",
            "positive    0.395994\n",
            "negative    0.155974\n",
            "Name: label, dtype: float64\n"
          ],
          "name": "stdout"
        },
        {
          "output_type": "execute_result",
          "data": {
            "text/html": [
              "<div>\n",
              "<style scoped>\n",
              "    .dataframe tbody tr th:only-of-type {\n",
              "        vertical-align: middle;\n",
              "    }\n",
              "\n",
              "    .dataframe tbody tr th {\n",
              "        vertical-align: top;\n",
              "    }\n",
              "\n",
              "    .dataframe thead th {\n",
              "        text-align: right;\n",
              "    }\n",
              "</style>\n",
              "<table border=\"1\" class=\"dataframe\">\n",
              "  <thead>\n",
              "    <tr style=\"text-align: right;\">\n",
              "      <th></th>\n",
              "      <th>label</th>\n",
              "      <th>message</th>\n",
              "    </tr>\n",
              "    <tr>\n",
              "      <th>id</th>\n",
              "      <th></th>\n",
              "      <th></th>\n",
              "    </tr>\n",
              "  </thead>\n",
              "  <tbody>\n",
              "    <tr>\n",
              "      <th>640329403277438976</th>\n",
              "      <td>neutral</td>\n",
              "      <td>[ARIRANG] SIMPLY KPOP - Kim Hyung Jun - Cross ...</td>\n",
              "    </tr>\n",
              "    <tr>\n",
              "      <th>640810454730833920</th>\n",
              "      <td>neutral</td>\n",
              "      <td>@TyTomlinson just read a politico article abou...</td>\n",
              "    </tr>\n",
              "    <tr>\n",
              "      <th>111344128507392000</th>\n",
              "      <td>neutral</td>\n",
              "      <td>I just typed in \"the Bazura Project\" into goog...</td>\n",
              "    </tr>\n",
              "    <tr>\n",
              "      <th>641414049083691009</th>\n",
              "      <td>neutral</td>\n",
              "      <td>Fast Lerner: Subpoenaed tech guy who worked on...</td>\n",
              "    </tr>\n",
              "    <tr>\n",
              "      <th>637666734300905472</th>\n",
              "      <td>negative</td>\n",
              "      <td>Sony rewards app is like a lot of 19 y.o femal...</td>\n",
              "    </tr>\n",
              "  </tbody>\n",
              "</table>\n",
              "</div>"
            ],
            "text/plain": [
              "                       label                                            message\n",
              "id                                                                             \n",
              "640329403277438976   neutral  [ARIRANG] SIMPLY KPOP - Kim Hyung Jun - Cross ...\n",
              "640810454730833920   neutral  @TyTomlinson just read a politico article abou...\n",
              "111344128507392000   neutral  I just typed in \"the Bazura Project\" into goog...\n",
              "641414049083691009   neutral  Fast Lerner: Subpoenaed tech guy who worked on...\n",
              "637666734300905472  negative  Sony rewards app is like a lot of 19 y.o femal..."
            ]
          },
          "metadata": {
            "tags": []
          },
          "execution_count": 2
        }
      ]
    },
    {
      "cell_type": "markdown",
      "metadata": {
        "id": "b4FAOSmx2DdV"
      },
      "source": [
        "Above we do a bit of preprocessing on the messages (drop duplicates, trim spaces, replace unicode code points with the actual characters...). The data structure is pretty simple: the tweet and its class.\n",
        "\n",
        "Note that the dataset is highly imbalanced. We have much more neutral messages than the rest, and the negative messages are less than half the positive ones! We should be very cautious about this. It is easy to get fooled thinking our model is performing quite well, when in reality it is strongly overfitting to the neutral/positive class and performs poorly on the negative one."
      ]
    },
    {
      "cell_type": "markdown",
      "metadata": {
        "id": "63Kl21D02DdY"
      },
      "source": [
        "## Objective and Metrics\n",
        "\n",
        "This is a standard text-classification problem with 3 classes, and we need to make sure that our model performs equally well on all these classes. This is why the SemEval-2017 competition used **Macro Recall** as its primary metric as it is more robust to class imbalance than accuracy. Macro Recall is the unweighted average of the recall on each class.\n",
        "\n",
        "In the original competition, 38 teams participated and the two best teams achieved an identical **macro-average recall of 68.1%**. Both teams used deep learning: one used an ensemble of LSTMs and CNNs with multiple convolution operations, while the other used deep LSTM networks with an attention mechanism.\n",
        "\n",
        "On top of **Macro Recall**, the organizers also used **Accuracy** and **Macro F1** (only over the positive and negative classes) as secondary metrics. We will define a convenient function to evaluate our model on these 3 metrics through 3-fold cross-validation. We will also measure the recall of the negative class since it is the minority one, and the one we should pay the most attention too."
      ]
    },
    {
      "cell_type": "code",
      "metadata": {
        "id": "XqJtfHan2Ddb"
      },
      "source": [
        "from sklearn import metrics\n",
        "from sklearn.model_selection import cross_validate\n",
        "\n",
        "f1_pos_neg = metrics.make_scorer(\n",
        "    metrics.f1_score,\n",
        "    average='macro',\n",
        "    labels=[labels_codes['negative'], labels_codes['positive']])\n",
        "recall_neg = metrics.make_scorer(\n",
        "    metrics.recall_score,\n",
        "    average='micro',\n",
        "    labels=[labels_codes['negative']])\n",
        "\n",
        "def evaluate_model(model, features, labels, cv=3, fit_params=None):\n",
        "    scores = cross_validate(\n",
        "        model,\n",
        "        features,\n",
        "        labels,\n",
        "        cv=cv,\n",
        "        fit_params=fit_params,\n",
        "        scoring={\n",
        "            'recall_macro': 'recall_macro',\n",
        "            'f1_pos_neg': f1_pos_neg,\n",
        "            'accuracy': 'accuracy',\n",
        "            'recall_neg': recall_neg,\n",
        "        },\n",
        "        n_jobs=-1,\n",
        "    )\n",
        "\n",
        "    results = pd.DataFrame(scores).drop(['fit_time', 'score_time'], axis=1)\n",
        "    results.columns = pd.MultiIndex.from_tuples([c.split('_', maxsplit=1) for c in results.columns])    \n",
        "    summary = results.describe()\n",
        "    results = results.append(summary.loc[['mean', 'std']])\n",
        "    \n",
        "    def custom_style(row):\n",
        "        color = 'white'\n",
        "        if row.name == 'mean':\n",
        "            color = 'yellow'\n",
        "        return ['background-color: %s' % color]*len(row.values)\n",
        "    results = results[sorted(results.columns, key=lambda x: x[0], reverse=True)]\n",
        "    results = results.style.apply(custom_style, axis=1)\n",
        "        \n",
        "    return results"
      ],
      "execution_count": null,
      "outputs": []
    },
    {
      "cell_type": "markdown",
      "metadata": {
        "id": "8KRvAcv02Ddn"
      },
      "source": [
        "## Baseline\n",
        "\n",
        "Before starting to experiment, let's have an idea of what performance we could reach by using an off-the-shelf library to classify the sentiment of tweets. We will use TextBlob, a popular python library to analyze text, which implemented a basic algorithm for sentiment analysis based on a lexicon."
      ]
    },
    {
      "cell_type": "code",
      "metadata": {
        "id": "RkwkFFQx2Ddo",
        "colab": {
          "base_uri": "https://localhost:8080/",
          "height": 166
        },
        "outputId": "66195439-dc5d-4e59-fcec-6ee8e3a37679"
      },
      "source": [
        "from sklearn.base import BaseEstimator\n",
        "from textblob import TextBlob\n",
        "\n",
        "class TextBlobClassifier(BaseEstimator):\n",
        "    def __init__(self, threshold=0.1):\n",
        "        self.threshold = threshold\n",
        "\n",
        "    def fit(self, X, y):\n",
        "        return self  # nothing to do\n",
        "\n",
        "    def predict(self, X):\n",
        "        labels = []      \n",
        "        for m in X:\n",
        "            blob = TextBlob(m)\n",
        "            polarity = blob.sentiment.polarity\n",
        "            if polarity > self.threshold:\n",
        "                labels.append(labels_codes['positive'])\n",
        "            elif polarity < -self.threshold:\n",
        "                labels.append(labels_codes['negative'])\n",
        "            else:\n",
        "                labels.append(labels_codes['neutral'])\n",
        "        return labels\n",
        "\n",
        "evaluate_model(TextBlobClassifier(), tweets_train['message'], tweets_train_y)"
      ],
      "execution_count": null,
      "outputs": [
        {
          "output_type": "execute_result",
          "data": {
            "text/html": [
              "<style  type=\"text/css\" >\n",
              "    #T_9400664c_cf52_11ea_9194_0242ac1c0002row0_col0 {\n",
              "            background-color:  white;\n",
              "        }    #T_9400664c_cf52_11ea_9194_0242ac1c0002row0_col1 {\n",
              "            background-color:  white;\n",
              "        }    #T_9400664c_cf52_11ea_9194_0242ac1c0002row0_col2 {\n",
              "            background-color:  white;\n",
              "        }    #T_9400664c_cf52_11ea_9194_0242ac1c0002row0_col3 {\n",
              "            background-color:  white;\n",
              "        }    #T_9400664c_cf52_11ea_9194_0242ac1c0002row1_col0 {\n",
              "            background-color:  white;\n",
              "        }    #T_9400664c_cf52_11ea_9194_0242ac1c0002row1_col1 {\n",
              "            background-color:  white;\n",
              "        }    #T_9400664c_cf52_11ea_9194_0242ac1c0002row1_col2 {\n",
              "            background-color:  white;\n",
              "        }    #T_9400664c_cf52_11ea_9194_0242ac1c0002row1_col3 {\n",
              "            background-color:  white;\n",
              "        }    #T_9400664c_cf52_11ea_9194_0242ac1c0002row2_col0 {\n",
              "            background-color:  white;\n",
              "        }    #T_9400664c_cf52_11ea_9194_0242ac1c0002row2_col1 {\n",
              "            background-color:  white;\n",
              "        }    #T_9400664c_cf52_11ea_9194_0242ac1c0002row2_col2 {\n",
              "            background-color:  white;\n",
              "        }    #T_9400664c_cf52_11ea_9194_0242ac1c0002row2_col3 {\n",
              "            background-color:  white;\n",
              "        }    #T_9400664c_cf52_11ea_9194_0242ac1c0002row3_col0 {\n",
              "            background-color:  yellow;\n",
              "        }    #T_9400664c_cf52_11ea_9194_0242ac1c0002row3_col1 {\n",
              "            background-color:  yellow;\n",
              "        }    #T_9400664c_cf52_11ea_9194_0242ac1c0002row3_col2 {\n",
              "            background-color:  yellow;\n",
              "        }    #T_9400664c_cf52_11ea_9194_0242ac1c0002row3_col3 {\n",
              "            background-color:  yellow;\n",
              "        }    #T_9400664c_cf52_11ea_9194_0242ac1c0002row4_col0 {\n",
              "            background-color:  white;\n",
              "        }    #T_9400664c_cf52_11ea_9194_0242ac1c0002row4_col1 {\n",
              "            background-color:  white;\n",
              "        }    #T_9400664c_cf52_11ea_9194_0242ac1c0002row4_col2 {\n",
              "            background-color:  white;\n",
              "        }    #T_9400664c_cf52_11ea_9194_0242ac1c0002row4_col3 {\n",
              "            background-color:  white;\n",
              "        }</style><table id=\"T_9400664c_cf52_11ea_9194_0242ac1c0002\" ><thead>    <tr>        <th class=\"blank level0\" ></th>        <th class=\"col_heading level0 col0\" colspan=4>test</th>    </tr>    <tr>        <th class=\"blank level1\" ></th>        <th class=\"col_heading level1 col0\" >recall_macro</th>        <th class=\"col_heading level1 col1\" >f1_pos_neg</th>        <th class=\"col_heading level1 col2\" >accuracy</th>        <th class=\"col_heading level1 col3\" >recall_neg</th>    </tr></thead><tbody>\n",
              "                <tr>\n",
              "                        <th id=\"T_9400664c_cf52_11ea_9194_0242ac1c0002level0_row0\" class=\"row_heading level0 row0\" >0</th>\n",
              "                        <td id=\"T_9400664c_cf52_11ea_9194_0242ac1c0002row0_col0\" class=\"data row0 col0\" >0.496095</td>\n",
              "                        <td id=\"T_9400664c_cf52_11ea_9194_0242ac1c0002row0_col1\" class=\"data row0 col1\" >0.468637</td>\n",
              "                        <td id=\"T_9400664c_cf52_11ea_9194_0242ac1c0002row0_col2\" class=\"data row0 col2\" >0.535117</td>\n",
              "                        <td id=\"T_9400664c_cf52_11ea_9194_0242ac1c0002row0_col3\" class=\"data row0 col3\" >0.341670</td>\n",
              "            </tr>\n",
              "            <tr>\n",
              "                        <th id=\"T_9400664c_cf52_11ea_9194_0242ac1c0002level0_row1\" class=\"row_heading level0 row1\" >1</th>\n",
              "                        <td id=\"T_9400664c_cf52_11ea_9194_0242ac1c0002row1_col0\" class=\"data row1 col0\" >0.489455</td>\n",
              "                        <td id=\"T_9400664c_cf52_11ea_9194_0242ac1c0002row1_col1\" class=\"data row1 col1\" >0.458633</td>\n",
              "                        <td id=\"T_9400664c_cf52_11ea_9194_0242ac1c0002row1_col2\" class=\"data row1 col2\" >0.533156</td>\n",
              "                        <td id=\"T_9400664c_cf52_11ea_9194_0242ac1c0002row1_col3\" class=\"data row1 col3\" >0.322080</td>\n",
              "            </tr>\n",
              "            <tr>\n",
              "                        <th id=\"T_9400664c_cf52_11ea_9194_0242ac1c0002level0_row2\" class=\"row_heading level0 row2\" >2</th>\n",
              "                        <td id=\"T_9400664c_cf52_11ea_9194_0242ac1c0002row2_col0\" class=\"data row2 col0\" >0.489174</td>\n",
              "                        <td id=\"T_9400664c_cf52_11ea_9194_0242ac1c0002row2_col1\" class=\"data row2 col1\" >0.460622</td>\n",
              "                        <td id=\"T_9400664c_cf52_11ea_9194_0242ac1c0002row2_col2\" class=\"data row2 col2\" >0.531646</td>\n",
              "                        <td id=\"T_9400664c_cf52_11ea_9194_0242ac1c0002row2_col3\" class=\"data row2 col3\" >0.326983</td>\n",
              "            </tr>\n",
              "            <tr>\n",
              "                        <th id=\"T_9400664c_cf52_11ea_9194_0242ac1c0002level0_row3\" class=\"row_heading level0 row3\" >mean</th>\n",
              "                        <td id=\"T_9400664c_cf52_11ea_9194_0242ac1c0002row3_col0\" class=\"data row3 col0\" >0.491575</td>\n",
              "                        <td id=\"T_9400664c_cf52_11ea_9194_0242ac1c0002row3_col1\" class=\"data row3 col1\" >0.462631</td>\n",
              "                        <td id=\"T_9400664c_cf52_11ea_9194_0242ac1c0002row3_col2\" class=\"data row3 col2\" >0.533306</td>\n",
              "                        <td id=\"T_9400664c_cf52_11ea_9194_0242ac1c0002row3_col3\" class=\"data row3 col3\" >0.330244</td>\n",
              "            </tr>\n",
              "            <tr>\n",
              "                        <th id=\"T_9400664c_cf52_11ea_9194_0242ac1c0002level0_row4\" class=\"row_heading level0 row4\" >std</th>\n",
              "                        <td id=\"T_9400664c_cf52_11ea_9194_0242ac1c0002row4_col0\" class=\"data row4 col0\" >0.003917</td>\n",
              "                        <td id=\"T_9400664c_cf52_11ea_9194_0242ac1c0002row4_col1\" class=\"data row4 col1\" >0.005296</td>\n",
              "                        <td id=\"T_9400664c_cf52_11ea_9194_0242ac1c0002row4_col2\" class=\"data row4 col2\" >0.001740</td>\n",
              "                        <td id=\"T_9400664c_cf52_11ea_9194_0242ac1c0002row4_col3\" class=\"data row4 col3\" >0.010194</td>\n",
              "            </tr>\n",
              "    </tbody></table>"
            ],
            "text/plain": [
              "<pandas.io.formats.style.Styler at 0x7fa0a6493898>"
            ]
          },
          "metadata": {
            "tags": []
          },
          "execution_count": 4
        }
      ]
    },
    {
      "cell_type": "markdown",
      "metadata": {
        "id": "dmryAKaj2Ddx"
      },
      "source": [
        "This doesn't look so great. Our recall macro average is below 50%. Sure this is higher than random, but the metrics for the negative class look pretty bad (only 33% of actual negative messages are recognized as such).\n",
        "\n",
        "This illustrates the limitations of the lexicon approach for social media messages, surely we can do better than this!"
      ]
    },
    {
      "cell_type": "markdown",
      "metadata": {
        "id": "HfC07kFH2Ddy"
      },
      "source": [
        "## Choosing the Right Feature Representation\n",
        "\n",
        "A lot of time in machine learning, choosing the best way to represent the data is even more important than what kind of classifier to use. To demonstrate this, I will go through different ways we could represent our social media messages. Later we will see how big the impact is on our model's classification performance.\n"
      ]
    },
    {
      "cell_type": "markdown",
      "metadata": {
        "id": "R7i2eEFmRAjB"
      },
      "source": [
        "### Bags of Words\n",
        "\n",
        "The bag of words representation makes a bold simplifying assumption: that word orders do not matter. For a given message, its feature representation is just the count for each possible word in our vocabulary.\n",
        "\n",
        "The first step to transform our tweets into word counts is to **tokenize each message into a list of words**. The choice of the tokenization method is important as it can be ambiguous where to split words. Here I use the Spacy tokenizer, which I customized a bit for Twitter messages by defining special tokens for smileys, user handles..."
      ]
    },
    {
      "cell_type": "code",
      "metadata": {
        "id": "syu4PbtQ2Ddz",
        "colab": {
          "base_uri": "https://localhost:8080/",
          "height": 136
        },
        "outputId": "c3311620-e2d4-44c0-ab00-2f911f80d58f"
      },
      "source": [
        "import spacy\n",
        "from sklearn.base import TransformerMixin\n",
        "\n",
        "class TweetTokenizer(BaseEstimator, TransformerMixin):\n",
        "    # I rewrote most preprocessing rules according to the original GloVe's tokenizer (in Ruby):\n",
        "    # https://nlp.stanford.edu/projects/glove/preprocess-twitter.rb\n",
        "\n",
        "    eyes_regex = r'[8:=;]'\n",
        "    nose_regex = r\"['`\\-]?\"\n",
        "\n",
        "    def __init__(self):\n",
        "        self.nlp = spacy.load('en_core_web_sm', disable = ['ner', 'tagger', 'parser', 'textcat'])\n",
        "        for token in ['<url>', '<user>', '<smile>', '<lolface>', '<sadface>', '<neutralface>', '<heart>', '<number>', '<repeat>', '<elong>', '<hashtag>']:\n",
        "            self.nlp.tokenizer.add_special_case(token, [{spacy.symbols.ORTH: token}])\n",
        "        \n",
        "    def fit(self, X, y=None):\n",
        "        return self\n",
        "    \n",
        "    def transform(self, messages):\n",
        "        messages =  messages.str.replace(r'https?://\\S+\\b|www\\.(\\w+\\.)+\\S*', '<URL>')\n",
        "\n",
        "        # Force splitting words appended with slashes/parenthesis/brackets (once we tokenized the URLs, of course)\n",
        "        messages = messages.str.replace(r'([/()\\[\\]])',r' \\1 ')\n",
        "        \n",
        "        messages =  messages.str.replace(r'@\\w+', '<USER>') #@mention\n",
        "        messages =  messages.str.replace(r'[-+]?[.\\d]*[\\d]+[:,.\\d]*', ' <NUMBER> ')\n",
        "\n",
        "        def replace_hash_text(match):\n",
        "            hash_text = match.group(1)\n",
        "            if hash_text.isupper():\n",
        "                return '<HASHTAG> ' + hash_text\n",
        "            else:\n",
        "                return '<HASHTAG> ' + ' '.join(re.findall(r'([a-zA-Z0-9]+?)(?=\\b|[A-Z0-9_])', hash_text))\n",
        "\n",
        "        messages =  messages.str.replace(r'#(\\S+)', replace_hash_text)\n",
        "        messages =  messages.str.replace(self.eyes_regex + self.nose_regex + r'[)d]+|[)d]+' + self.nose_regex + self.eyes_regex, '<SMILE>', flags=re.IGNORECASE)\n",
        "        messages =  messages.str.replace(self.eyes_regex + self.nose_regex + r'p+', '<LOLFACE>', flags=re.IGNORECASE)\n",
        "        messages =  messages.str.replace(self.eyes_regex + self.nose_regex + r'\\(+|\\)+' + self.nose_regex + self.eyes_regex, '<SADFACE>')\n",
        "        messages =  messages.str.replace(self.eyes_regex + self.nose_regex + r'[/|l*]', '<NEUTRALFACE>')\n",
        "        messages =  messages.str.replace(r'<3', '<HEART>')\n",
        "\n",
        "        # Mark punctuation repetitions (eg. \"!!!\" => \"! <REPEAT>\")\n",
        "        messages =  messages.str.replace(r'([!?.]){2,}', r'\\1 <REPEAT>')\n",
        "\n",
        "        # Mark elongated words (eg. \"wayyyy\" => \"way <ELONG>\")\n",
        "        messages =  messages.str.replace(r'\\b(\\S*?)(.)\\2{2,}\\b', r'\\1\\2 <ELONG>')    \n",
        "\n",
        "        # Replace all whitespace characters by only one space\n",
        "        messages =  messages.str.replace(r'\\s+', ' ')\n",
        "        messages = messages.str.strip()\n",
        "        messages =  messages.str.lower()\n",
        "\n",
        "        return messages.apply(lambda msg: [token.text for token in self.nlp(msg)])\n",
        "\n",
        "# let's see some examples:\n",
        "tweets_train_tokenized = TweetTokenizer().fit_transform(tweets_train['message'])\n",
        "tweets_train_tokenized[:5]"
      ],
      "execution_count": null,
      "outputs": [
        {
          "output_type": "execute_result",
          "data": {
            "text/plain": [
              "id\n",
              "640329403277438976    [[, arirang, ], simply, kpop, -, kim, hyung, j...\n",
              "640810454730833920    [<user>, just, read, a, politico, article, abo...\n",
              "111344128507392000    [i, just, typed, in, \", the, bazura, project, ...\n",
              "641414049083691009    [fast, lerner, :, subpoenaed, tech, guy, who, ...\n",
              "637666734300905472    [sony, rewards, app, is, like, a, lot, of, <nu...\n",
              "Name: message, dtype: object"
            ]
          },
          "metadata": {
            "tags": []
          },
          "execution_count": 5
        }
      ]
    },
    {
      "cell_type": "markdown",
      "metadata": {
        "id": "Bl2BEJrmCXDm"
      },
      "source": [
        "You can see  that the messages are now properly broken down into words and special characters like `[`, `-`, `:`. We also replace words with special meaning like usernames or number with unique tokens `<user>`, `<number>` for better interpretation by our model.\n",
        "\n",
        "Now we can transform these tokenized sentences into word counts:"
      ]
    },
    {
      "cell_type": "code",
      "metadata": {
        "id": "vk8cS9IgJqpk",
        "colab": {
          "base_uri": "https://localhost:8080/",
          "height": 374
        },
        "outputId": "2ad324fd-99d7-464a-ddc6-e48476586490"
      },
      "source": [
        "from collections import Counter\n",
        "\n",
        "Counter(tweets_train_tokenized.iloc[0])"
      ],
      "execution_count": null,
      "outputs": [
        {
          "output_type": "execute_result",
          "data": {
            "text/plain": [
              "Counter({'(': 1,\n",
              "         ')': 1,\n",
              "         '-': 2,\n",
              "         '.': 1,\n",
              "         '<url>': 1,\n",
              "         '[': 1,\n",
              "         ']': 1,\n",
              "         'arirang': 1,\n",
              "         'cross': 1,\n",
              "         'feat': 1,\n",
              "         'ha': 1,\n",
              "         'hyung': 1,\n",
              "         'jun': 1,\n",
              "         'kim': 1,\n",
              "         'kpop': 1,\n",
              "         'line': 1,\n",
              "         'of': 1,\n",
              "         'playback': 1,\n",
              "         'simply': 1,\n",
              "         'the': 1,\n",
              "         'yeong': 1})"
            ]
          },
          "metadata": {
            "tags": []
          },
          "execution_count": 6
        }
      ]
    },
    {
      "cell_type": "markdown",
      "metadata": {
        "id": "lzJd9GLM2Dd6"
      },
      "source": [
        "Above is an example of a bag of words representation for one message. You may think that it would be hard for our model to guess the overall sentiment only based on this, but it turns out that this simple representation already contains quite a lot of relevant information! For example it will be easy for the model to recognize and learn about positive/negative words.\n",
        "\n",
        "These word counts will then be vectorized into a giant 2D array where each row represents one message and each row contains 19,558 integers (the number of tokens in our vocabulary). Notice that the matrix will be very sparse as a given message only contains a few of those words."
      ]
    },
    {
      "cell_type": "markdown",
      "metadata": {
        "id": "28otpqzhElOT"
      },
      "source": [
        "### Normalizing Bags of Words with TF-IDF\n",
        "\n",
        "We could even improve further these bags of words representations by applying a simple transformation to improve their information content.\n",
        "\n",
        "**Term Frequency - Inverse Document Frequency** is a method to give more importance to rare or unusual words and less importance to common words such as \"the\", \"a\"...\n",
        "\n",
        "The idea is simple, you just normalize (divide) each word count by the frequency of this word in all documents (hence the \"*inverse document frequency*\")."
      ]
    },
    {
      "cell_type": "code",
      "metadata": {
        "id": "jC7rxR0F2Dd7",
        "colab": {
          "base_uri": "https://localhost:8080/",
          "height": 476
        },
        "outputId": "5e0b9c26-9b1d-4bbf-da02-ec55af1adf47"
      },
      "source": [
        "from sklearn.feature_extraction import DictVectorizer\n",
        "from sklearn.feature_extraction.text import TfidfTransformer\n",
        "\n",
        "class BagOfWords(BaseEstimator, TransformerMixin):\n",
        "    def __init__(self, min_frequency=2, clip_counts=False, use_tfidf=False):\n",
        "        self.min_frequency = min_frequency # to reduce our total vocabulary size, we only keep words that appear at least n times\n",
        "        self.clip_counts = clip_counts # clip the counts to a maximum of 1 (is the word present or not)\n",
        "        self.use_tfidf = use_tfidf\n",
        "        \n",
        "    def fit(self, X, y=None):\n",
        "        self.keep_columns = None\n",
        "        self.vectorizer = DictVectorizer(dtype=np.int)\n",
        "        \n",
        "        self.tfidf_transformer = None\n",
        "        if self.use_tfidf:\n",
        "            self.tfidf_transformer = TfidfTransformer()\n",
        "        \n",
        "        if self.clip_counts:\n",
        "            bags_of_words = X.apply(lambda tokens: Counter(set(tokens)))\n",
        "        else:\n",
        "            bags_of_words = X.apply(lambda tokens: Counter(tokens))\n",
        "        \n",
        "        X_vectors = self.vectorizer.fit_transform(bags_of_words)\n",
        "        self.keep_columns = np.array(X_vectors.sum(axis=0) >= self.min_frequency).squeeze()\n",
        "        \n",
        "        if self.use_tfidf:\n",
        "            self.tfidf_transformer.fit(X_vectors[:, self.keep_columns])\n",
        "        \n",
        "        return self\n",
        "    \n",
        "    def transform(self, X):\n",
        "        if self.clip_counts:\n",
        "            bags_of_words = X.apply(lambda tokens: Counter(set(tokens)))\n",
        "        else:\n",
        "            bags_of_words = X.apply(lambda tokens: Counter(tokens))\n",
        "        \n",
        "        X_vectors = self.vectorizer.transform(bags_of_words)\n",
        "        X_vectors = X_vectors[:, self.keep_columns]\n",
        "        if self.use_tfidf:\n",
        "            X_vectors = self.tfidf_transformer.transform(X_vectors)\n",
        "        \n",
        "        return X_vectors\n",
        "\n",
        "\n",
        "print(\"Examples of bags of words without normalization (raw counts per document):\")\n",
        "print(BagOfWords(min_frequency=2, use_tfidf=False).fit_transform(tweets_train_tokenized[:5]).toarray(), end='\\n\\n\\n')\n",
        "\n",
        "print(\"The same examples as above but with counts clipped to 1:\")\n",
        "print(BagOfWords(min_frequency=2, clip_counts=True).fit_transform(tweets_train_tokenized[:5]).toarray(), end='\\n\\n\\n')\n",
        "\n",
        "print(\"The same examples as above but with TF-IDF normalization:\")\n",
        "print(np.around(BagOfWords(min_frequency=2, use_tfidf=True).fit_transform(tweets_train_tokenized[:5]).toarray(), decimals=1))"
      ],
      "execution_count": null,
      "outputs": [
        {
          "output_type": "stream",
          "text": [
            "Examples of bags of words without normalization (raw counts per document):\n",
            "[[0 0 1 1 2 1 0 1 0 0 0 0 0 1 0 0 1 0 0]\n",
            " [0 1 0 0 0 2 1 0 1 0 0 1 1 1 1 0 0 1 0]\n",
            " [2 0 0 0 0 2 1 0 1 1 2 1 0 1 0 1 2 0 1]\n",
            " [0 1 1 1 0 0 1 1 0 0 0 0 0 0 1 1 1 1 0]\n",
            " [0 0 0 0 0 1 2 0 2 1 1 0 1 1 0 0 0 0 1]]\n",
            "\n",
            "\n",
            "The same examples as above but with counts clipped to 1:\n",
            "[[0 1 1 1 0 1 0 0 0 0 0 1 0 0 1 0 0]\n",
            " [1 0 0 1 1 0 1 0 0 1 1 1 1 0 0 1 0]\n",
            " [0 0 0 1 1 0 1 1 1 1 0 1 0 1 1 0 1]\n",
            " [1 1 1 0 1 1 0 0 0 0 0 0 1 1 1 1 0]\n",
            " [0 0 0 1 1 0 1 1 1 0 1 1 0 0 0 0 1]]\n",
            "\n",
            "\n",
            "The same examples as above but with TF-IDF normalization:\n",
            "[[0.  0.  0.3 0.3 0.8 0.2 0.  0.3 0.  0.  0.  0.  0.  0.2 0.  0.  0.3 0.\n",
            "  0. ]\n",
            " [0.  0.3 0.  0.  0.  0.5 0.2 0.  0.3 0.  0.  0.3 0.3 0.2 0.3 0.  0.  0.3\n",
            "  0. ]\n",
            " [0.5 0.  0.  0.  0.  0.3 0.2 0.  0.2 0.2 0.4 0.2 0.  0.2 0.  0.2 0.4 0.\n",
            "  0.2]\n",
            " [0.  0.3 0.3 0.3 0.  0.  0.2 0.3 0.  0.  0.  0.  0.  0.  0.3 0.3 0.3 0.3\n",
            "  0. ]\n",
            " [0.  0.  0.  0.  0.  0.2 0.4 0.  0.5 0.3 0.3 0.  0.3 0.2 0.  0.  0.  0.\n",
            "  0.3]]\n"
          ],
          "name": "stdout"
        }
      ]
    },
    {
      "cell_type": "markdown",
      "metadata": {
        "id": "tLkRY3XC2Dd_"
      },
      "source": [
        "As you can see, after the TF-IDF transformation, all 0s stay 0s but the positive count integers seen above are turned into floats after being divided by the frequency of each term across all documents.\n",
        "\n",
        "Here all TF-IDF scores are between 0 and 1, but this is because the Scikit-Learn TF-IDF implementation also applies an L2 normalization step to each row (divide each row by its L2 norm). In other implementations these numbers could actually be greater than 1.\n"
      ]
    },
    {
      "cell_type": "markdown",
      "metadata": {
        "id": "k6i2mMzy2DeF"
      },
      "source": [
        "### Word Embeddings and BERT\n",
        "\n",
        "Another powerful representation are **word embeddings**, where we map each individual word to a continuous vector in a high-dimensional space. The main intuition behind this technique is that similar words should be close together in the embedding space. For example the embeddings for `love` and `affection` are much closer than the ones for `horse` and `shoes`.\n",
        "\n",
        "There exist many ways to construct embeddings for a given vocabulary. Some of the most popular methods include [word2vec](https://papers.nips.cc/paper/5021-distributed-representations-of-words-and-phrases-and-their-compositionality.pdf) or [GloVe](https://nlp.stanford.edu/projects/glove/). However in recent years people have started to use more and more **contextual word embeddings**, where embeddings are computed not only from the target word but also from the context it appears in. This allows for much richer representations and disambiguation of identical words in different settings. For example the embedding for `right` would be quite different in each of these 2 sentences:\n",
        "\n",
        "* He was *right*.\n",
        "* Turn *right* after the sign.\n",
        "\n",
        "Being able to differentiate meaning between otherwise identical-looking words is important for sentiment analysis. [BERT](https://arxiv.org/abs/1810.04805) is one model which allow us to extract embeddings which take into account the context, so it will be a great representation for our social media messages.\n",
        "\n",
        "Let's now encode all our tweets into BERT embeddings, we will use the convenient [Transformers library](https://github.com/huggingface/transformers) for this. BERT is quite a large model, and it can take some time to encode all the messages in the training set. I highly suggest using a GPU for that if you have one, or you can use [Google Colab](https://colab.research.google.com) which provides a free GPU for experimentation."
      ]
    },
    {
      "cell_type": "code",
      "metadata": {
        "id": "hJmxhd-A2DeF",
        "colab": {
          "base_uri": "https://localhost:8080/",
          "height": 51
        },
        "outputId": "755e4a9f-1182-4acc-e775-c483e08e64cf"
      },
      "source": [
        "import torch\n",
        "import transformers\n",
        "import tqdm\n",
        "\n",
        "class BertEmbeddings(TransformerMixin):\n",
        "    def __init__(self, max_sequence_length=50, batch_size=32, device='cpu'):\n",
        "        self.max_sequence_length = max_sequence_length\n",
        "        self.batch_size = batch_size\n",
        "        self.device = torch.device(device)\n",
        "        self.tokenizer = transformers.BertTokenizer.from_pretrained('bert-base-cased')\n",
        "        self.model = transformers.BertModel.from_pretrained('bert-base-cased', output_hidden_states=True)\n",
        "        self.model.eval()\n",
        "        self.model.to(self.device)\n",
        "\n",
        "    def transform(self, messages):\n",
        "        embeddings = np.zeros((len(messages),768), dtype=np.float32)\n",
        "        with torch.no_grad():\n",
        "            for i in tqdm.tqdm(range(0, len(messages), self.batch_size)):\n",
        "                encoded = self.tokenizer.batch_encode_plus(\n",
        "                    messages[i:i+self.batch_size],\n",
        "                    max_length=self.max_sequence_length,\n",
        "                    pad_to_max_length=True,\n",
        "                    truncation=True)\n",
        "                output = self.model(\n",
        "                    input_ids=torch.tensor(encoded['input_ids']).to(self.device),\n",
        "                    attention_mask=torch.tensor(encoded['attention_mask']).to(self.device),\n",
        "                    token_type_ids=torch.tensor(encoded['token_type_ids']).to(self.device))\n",
        "                \n",
        "                # the indice `2` of the output contains a tuple of hidden states for all layers + final embeddings output    \n",
        "                full_embeddings = output[2][-2].cpu().numpy()\n",
        "                for j in range(len(encoded['input_ids'])):\n",
        "                    sentence_length = len(np.nonzero(encoded['input_ids'][j])[0])\n",
        "                    words_embeddings = full_embeddings[j,:sentence_length]\n",
        "                    # We multiply the avg. embedding by the square root of the number of words\n",
        "                    # to compensate for the fact that the mean of n vectors gets shorter as n grows\n",
        "                    embeddings[i+j] = np.mean(words_embeddings, axis=0) * np.sqrt(len(words_embeddings))\n",
        "\n",
        "        return embeddings\n",
        "\n",
        "tweets_train_bert = BertEmbeddings(device='cuda').transform(tweets_train['message'].to_numpy())\n",
        "print('Finished encoding the messages! The final shape of our array is {}'.format(tweets_train_bert.shape))"
      ],
      "execution_count": null,
      "outputs": [
        {
          "output_type": "stream",
          "text": [
            "100%|██████████| 1553/1553 [02:28<00:00, 10.46it/s]"
          ],
          "name": "stderr"
        },
        {
          "output_type": "stream",
          "text": [
            "Finished encoding the messages! The final shape of our array is (49675, 768)\n"
          ],
          "name": "stdout"
        },
        {
          "output_type": "stream",
          "text": [
            "\n"
          ],
          "name": "stderr"
        }
      ]
    },
    {
      "cell_type": "markdown",
      "metadata": {
        "id": "jDOXyMo2Wgy3"
      },
      "source": [
        "We now have a giant matrix where each message is encoded into a vector of length 768. Note that our final embeddings are actually message-level representations instead of word-level embeddings. We obtained these message-level vectors by averaging the individual word embeddings across each message. This is needed because we will later use a simple model that requires fixed-length features to classify the tweets.\n",
        "\n",
        "It would be also possible to directly use separate word embeddings for classification, but we would need a more complex model that can handle variable-length messages (like a recurrent neural network for example). In order to keep things simple for this guide we will only use the message-level embeddings for now!"
      ]
    },
    {
      "cell_type": "markdown",
      "metadata": {
        "id": "QaF-sS4S2DeJ"
      },
      "source": [
        "## Training the Model\n",
        "\n",
        "Ok we now have a bunch of different representations for our tweets. Let's start building models to experiment with these.\n"
      ]
    },
    {
      "cell_type": "markdown",
      "metadata": {
        "id": "7pXHIfpp2Dec"
      },
      "source": [
        "### Naive Bayes\n",
        "\n",
        "Naive Bayes is a popular classifier for text-related problems. As its name indicates, this classifier makes a naive assumption: the conditional independence assumption. Basically the model considers that the probability of each word presence in a message is completely independent from the presence of other words. It is easy to see how far a stretch this assumption is, as words are heavily correlated in a sentence (ex: if 'cake' is present then the probability of 'delicious' being also present is slightly higher).\n",
        "\n",
        "Nevertheless the simplicity of this model doesn't impact too much its performance and Naive Bayes is usually one of the first thing people try when they have to deal with textual data.\n",
        "\n",
        "This is what we will do too, and we train this model on the bags of words representations of our messages:"
      ]
    },
    {
      "cell_type": "code",
      "metadata": {
        "id": "lghqatAY4_n0",
        "colab": {
          "base_uri": "https://localhost:8080/",
          "height": 166
        },
        "outputId": "e4f4170d-6229-49ca-fb5a-14ed686bbdfb"
      },
      "source": [
        "from sklearn.naive_bayes import MultinomialNB\n",
        "\n",
        "# we set fit_prior=False to use a uniform distribution as the prior (better for imbalanced classification)\n",
        "evaluate_model(\n",
        "    MultinomialNB(fit_prior=False),\n",
        "    BagOfWords(min_frequency=2, clip_counts=True).fit_transform(tweets_train_tokenized),\n",
        "    tweets_train_y)"
      ],
      "execution_count": null,
      "outputs": [
        {
          "output_type": "execute_result",
          "data": {
            "text/html": [
              "<style  type=\"text/css\" >\n",
              "    #T_f8f824fe_cf52_11ea_9194_0242ac1c0002row0_col0 {\n",
              "            background-color:  white;\n",
              "        }    #T_f8f824fe_cf52_11ea_9194_0242ac1c0002row0_col1 {\n",
              "            background-color:  white;\n",
              "        }    #T_f8f824fe_cf52_11ea_9194_0242ac1c0002row0_col2 {\n",
              "            background-color:  white;\n",
              "        }    #T_f8f824fe_cf52_11ea_9194_0242ac1c0002row0_col3 {\n",
              "            background-color:  white;\n",
              "        }    #T_f8f824fe_cf52_11ea_9194_0242ac1c0002row1_col0 {\n",
              "            background-color:  white;\n",
              "        }    #T_f8f824fe_cf52_11ea_9194_0242ac1c0002row1_col1 {\n",
              "            background-color:  white;\n",
              "        }    #T_f8f824fe_cf52_11ea_9194_0242ac1c0002row1_col2 {\n",
              "            background-color:  white;\n",
              "        }    #T_f8f824fe_cf52_11ea_9194_0242ac1c0002row1_col3 {\n",
              "            background-color:  white;\n",
              "        }    #T_f8f824fe_cf52_11ea_9194_0242ac1c0002row2_col0 {\n",
              "            background-color:  white;\n",
              "        }    #T_f8f824fe_cf52_11ea_9194_0242ac1c0002row2_col1 {\n",
              "            background-color:  white;\n",
              "        }    #T_f8f824fe_cf52_11ea_9194_0242ac1c0002row2_col2 {\n",
              "            background-color:  white;\n",
              "        }    #T_f8f824fe_cf52_11ea_9194_0242ac1c0002row2_col3 {\n",
              "            background-color:  white;\n",
              "        }    #T_f8f824fe_cf52_11ea_9194_0242ac1c0002row3_col0 {\n",
              "            background-color:  yellow;\n",
              "        }    #T_f8f824fe_cf52_11ea_9194_0242ac1c0002row3_col1 {\n",
              "            background-color:  yellow;\n",
              "        }    #T_f8f824fe_cf52_11ea_9194_0242ac1c0002row3_col2 {\n",
              "            background-color:  yellow;\n",
              "        }    #T_f8f824fe_cf52_11ea_9194_0242ac1c0002row3_col3 {\n",
              "            background-color:  yellow;\n",
              "        }    #T_f8f824fe_cf52_11ea_9194_0242ac1c0002row4_col0 {\n",
              "            background-color:  white;\n",
              "        }    #T_f8f824fe_cf52_11ea_9194_0242ac1c0002row4_col1 {\n",
              "            background-color:  white;\n",
              "        }    #T_f8f824fe_cf52_11ea_9194_0242ac1c0002row4_col2 {\n",
              "            background-color:  white;\n",
              "        }    #T_f8f824fe_cf52_11ea_9194_0242ac1c0002row4_col3 {\n",
              "            background-color:  white;\n",
              "        }</style><table id=\"T_f8f824fe_cf52_11ea_9194_0242ac1c0002\" ><thead>    <tr>        <th class=\"blank level0\" ></th>        <th class=\"col_heading level0 col0\" colspan=4>test</th>    </tr>    <tr>        <th class=\"blank level1\" ></th>        <th class=\"col_heading level1 col0\" >recall_macro</th>        <th class=\"col_heading level1 col1\" >f1_pos_neg</th>        <th class=\"col_heading level1 col2\" >accuracy</th>        <th class=\"col_heading level1 col3\" >recall_neg</th>    </tr></thead><tbody>\n",
              "                <tr>\n",
              "                        <th id=\"T_f8f824fe_cf52_11ea_9194_0242ac1c0002level0_row0\" class=\"row_heading level0 row0\" >0</th>\n",
              "                        <td id=\"T_f8f824fe_cf52_11ea_9194_0242ac1c0002row0_col0\" class=\"data row0 col0\" >0.620937</td>\n",
              "                        <td id=\"T_f8f824fe_cf52_11ea_9194_0242ac1c0002row0_col1\" class=\"data row0 col1\" >0.602270</td>\n",
              "                        <td id=\"T_f8f824fe_cf52_11ea_9194_0242ac1c0002row0_col2\" class=\"data row0 col2\" >0.618093</td>\n",
              "                        <td id=\"T_f8f824fe_cf52_11ea_9194_0242ac1c0002row0_col3\" class=\"data row0 col3\" >0.611305</td>\n",
              "            </tr>\n",
              "            <tr>\n",
              "                        <th id=\"T_f8f824fe_cf52_11ea_9194_0242ac1c0002level0_row1\" class=\"row_heading level0 row1\" >1</th>\n",
              "                        <td id=\"T_f8f824fe_cf52_11ea_9194_0242ac1c0002row1_col0\" class=\"data row1 col0\" >0.615800</td>\n",
              "                        <td id=\"T_f8f824fe_cf52_11ea_9194_0242ac1c0002row1_col1\" class=\"data row1 col1\" >0.599981</td>\n",
              "                        <td id=\"T_f8f824fe_cf52_11ea_9194_0242ac1c0002row1_col2\" class=\"data row1 col2\" >0.618009</td>\n",
              "                        <td id=\"T_f8f824fe_cf52_11ea_9194_0242ac1c0002row1_col3\" class=\"data row1 col3\" >0.588691</td>\n",
              "            </tr>\n",
              "            <tr>\n",
              "                        <th id=\"T_f8f824fe_cf52_11ea_9194_0242ac1c0002level0_row2\" class=\"row_heading level0 row2\" >2</th>\n",
              "                        <td id=\"T_f8f824fe_cf52_11ea_9194_0242ac1c0002row2_col0\" class=\"data row2 col0\" >0.615914</td>\n",
              "                        <td id=\"T_f8f824fe_cf52_11ea_9194_0242ac1c0002row2_col1\" class=\"data row2 col1\" >0.595471</td>\n",
              "                        <td id=\"T_f8f824fe_cf52_11ea_9194_0242ac1c0002row2_col2\" class=\"data row2 col2\" >0.617768</td>\n",
              "                        <td id=\"T_f8f824fe_cf52_11ea_9194_0242ac1c0002row2_col3\" class=\"data row2 col3\" >0.592334</td>\n",
              "            </tr>\n",
              "            <tr>\n",
              "                        <th id=\"T_f8f824fe_cf52_11ea_9194_0242ac1c0002level0_row3\" class=\"row_heading level0 row3\" >mean</th>\n",
              "                        <td id=\"T_f8f824fe_cf52_11ea_9194_0242ac1c0002row3_col0\" class=\"data row3 col0\" >0.617550</td>\n",
              "                        <td id=\"T_f8f824fe_cf52_11ea_9194_0242ac1c0002row3_col1\" class=\"data row3 col1\" >0.599241</td>\n",
              "                        <td id=\"T_f8f824fe_cf52_11ea_9194_0242ac1c0002row3_col2\" class=\"data row3 col2\" >0.617957</td>\n",
              "                        <td id=\"T_f8f824fe_cf52_11ea_9194_0242ac1c0002row3_col3\" class=\"data row3 col3\" >0.597443</td>\n",
              "            </tr>\n",
              "            <tr>\n",
              "                        <th id=\"T_f8f824fe_cf52_11ea_9194_0242ac1c0002level0_row4\" class=\"row_heading level0 row4\" >std</th>\n",
              "                        <td id=\"T_f8f824fe_cf52_11ea_9194_0242ac1c0002row4_col0\" class=\"data row4 col0\" >0.002933</td>\n",
              "                        <td id=\"T_f8f824fe_cf52_11ea_9194_0242ac1c0002row4_col1\" class=\"data row4 col1\" >0.003459</td>\n",
              "                        <td id=\"T_f8f824fe_cf52_11ea_9194_0242ac1c0002row4_col2\" class=\"data row4 col2\" >0.000169</td>\n",
              "                        <td id=\"T_f8f824fe_cf52_11ea_9194_0242ac1c0002row4_col3\" class=\"data row4 col3\" >0.012142</td>\n",
              "            </tr>\n",
              "    </tbody></table>"
            ],
            "text/plain": [
              "<pandas.io.formats.style.Styler at 0x7fa0a5102278>"
            ]
          },
          "metadata": {
            "tags": []
          },
          "execution_count": 9
        }
      ]
    },
    {
      "cell_type": "markdown",
      "metadata": {
        "id": "DxMhSbyu6Z5b"
      },
      "source": [
        "Not bad for a first try! Notice how our **avg. macro recall of ~62%** is much higher than our baseline (<50%). According to the SemEval-2017 paper this would actually put us among the top 20 of the official ranking, despite the simplicity of the model and features representation.\n",
        "\n",
        "*Note: This is not exactly an apple-to-apple comparison since our results are obtained from cross-validation on the training data. The SemEval-2017 teams report their performance on the official test data. We will do so too at the end.*\n",
        "\n",
        "Although Naive Bayes seems to perform great out-of-the-box, [it has been demonstrated](http://ai.stanford.edu/~ang/papers/nips01-discriminativegenerative.pdf) that Logistic regression, which takes longer to converge, can reach a lower error than Naive Bayes when properly fine-tuned. So let's try that!"
      ]
    },
    {
      "cell_type": "markdown",
      "metadata": {
        "id": "GF-RvggPHHqZ"
      },
      "source": [
        "### Logisitic Regression\n",
        "\n",
        "This is usually a binary classifier but we can extend it to work for multiple classes by replacing the binary loss with the cross-entropy loss.\n",
        "\n",
        "Let's first build a simple model with default settings:\n",
        "* We choose `multi_class='multimonial'` to specify that we want to use Softmax/cross-entropy loss (and not 3 different binary  classifiers)\n",
        "* We use `solver='lbfgs'` to pick a solver that supports Softmax\n",
        "* We set `class_weight='balanced'` to give more importance to the less represented classes during training (i.e. negative messages)\n",
        "\n",
        "We use bags of words to train the model here too."
      ]
    },
    {
      "cell_type": "code",
      "metadata": {
        "id": "nLHfVYBf2DeK",
        "colab": {
          "base_uri": "https://localhost:8080/",
          "height": 166
        },
        "outputId": "cd2a6896-5230-44fa-82cf-0828baea0108"
      },
      "source": [
        "from sklearn.linear_model import LogisticRegression\n",
        "\n",
        "log_reg = LogisticRegression(multi_class='multinomial', solver='lbfgs', class_weight='balanced')\n",
        "\n",
        "evaluate_model(\n",
        "    log_reg,\n",
        "    BagOfWords().fit_transform(tweets_train_tokenized),\n",
        "    tweets_train_y)"
      ],
      "execution_count": null,
      "outputs": [
        {
          "output_type": "execute_result",
          "data": {
            "text/html": [
              "<style  type=\"text/css\" >\n",
              "    #T_fe0a497c_cf52_11ea_9194_0242ac1c0002row0_col0 {\n",
              "            background-color:  white;\n",
              "        }    #T_fe0a497c_cf52_11ea_9194_0242ac1c0002row0_col1 {\n",
              "            background-color:  white;\n",
              "        }    #T_fe0a497c_cf52_11ea_9194_0242ac1c0002row0_col2 {\n",
              "            background-color:  white;\n",
              "        }    #T_fe0a497c_cf52_11ea_9194_0242ac1c0002row0_col3 {\n",
              "            background-color:  white;\n",
              "        }    #T_fe0a497c_cf52_11ea_9194_0242ac1c0002row1_col0 {\n",
              "            background-color:  white;\n",
              "        }    #T_fe0a497c_cf52_11ea_9194_0242ac1c0002row1_col1 {\n",
              "            background-color:  white;\n",
              "        }    #T_fe0a497c_cf52_11ea_9194_0242ac1c0002row1_col2 {\n",
              "            background-color:  white;\n",
              "        }    #T_fe0a497c_cf52_11ea_9194_0242ac1c0002row1_col3 {\n",
              "            background-color:  white;\n",
              "        }    #T_fe0a497c_cf52_11ea_9194_0242ac1c0002row2_col0 {\n",
              "            background-color:  white;\n",
              "        }    #T_fe0a497c_cf52_11ea_9194_0242ac1c0002row2_col1 {\n",
              "            background-color:  white;\n",
              "        }    #T_fe0a497c_cf52_11ea_9194_0242ac1c0002row2_col2 {\n",
              "            background-color:  white;\n",
              "        }    #T_fe0a497c_cf52_11ea_9194_0242ac1c0002row2_col3 {\n",
              "            background-color:  white;\n",
              "        }    #T_fe0a497c_cf52_11ea_9194_0242ac1c0002row3_col0 {\n",
              "            background-color:  yellow;\n",
              "        }    #T_fe0a497c_cf52_11ea_9194_0242ac1c0002row3_col1 {\n",
              "            background-color:  yellow;\n",
              "        }    #T_fe0a497c_cf52_11ea_9194_0242ac1c0002row3_col2 {\n",
              "            background-color:  yellow;\n",
              "        }    #T_fe0a497c_cf52_11ea_9194_0242ac1c0002row3_col3 {\n",
              "            background-color:  yellow;\n",
              "        }    #T_fe0a497c_cf52_11ea_9194_0242ac1c0002row4_col0 {\n",
              "            background-color:  white;\n",
              "        }    #T_fe0a497c_cf52_11ea_9194_0242ac1c0002row4_col1 {\n",
              "            background-color:  white;\n",
              "        }    #T_fe0a497c_cf52_11ea_9194_0242ac1c0002row4_col2 {\n",
              "            background-color:  white;\n",
              "        }    #T_fe0a497c_cf52_11ea_9194_0242ac1c0002row4_col3 {\n",
              "            background-color:  white;\n",
              "        }</style><table id=\"T_fe0a497c_cf52_11ea_9194_0242ac1c0002\" ><thead>    <tr>        <th class=\"blank level0\" ></th>        <th class=\"col_heading level0 col0\" colspan=4>test</th>    </tr>    <tr>        <th class=\"blank level1\" ></th>        <th class=\"col_heading level1 col0\" >recall_macro</th>        <th class=\"col_heading level1 col1\" >f1_pos_neg</th>        <th class=\"col_heading level1 col2\" >accuracy</th>        <th class=\"col_heading level1 col3\" >recall_neg</th>    </tr></thead><tbody>\n",
              "                <tr>\n",
              "                        <th id=\"T_fe0a497c_cf52_11ea_9194_0242ac1c0002level0_row0\" class=\"row_heading level0 row0\" >0</th>\n",
              "                        <td id=\"T_fe0a497c_cf52_11ea_9194_0242ac1c0002row0_col0\" class=\"data row0 col0\" >0.641287</td>\n",
              "                        <td id=\"T_fe0a497c_cf52_11ea_9194_0242ac1c0002row0_col1\" class=\"data row0 col1\" >0.619628</td>\n",
              "                        <td id=\"T_fe0a497c_cf52_11ea_9194_0242ac1c0002row0_col2\" class=\"data row0 col2\" >0.647080</td>\n",
              "                        <td id=\"T_fe0a497c_cf52_11ea_9194_0242ac1c0002row0_col3\" class=\"data row0 col3\" >0.613240</td>\n",
              "            </tr>\n",
              "            <tr>\n",
              "                        <th id=\"T_fe0a497c_cf52_11ea_9194_0242ac1c0002level0_row1\" class=\"row_heading level0 row1\" >1</th>\n",
              "                        <td id=\"T_fe0a497c_cf52_11ea_9194_0242ac1c0002row1_col0\" class=\"data row1 col0\" >0.631539</td>\n",
              "                        <td id=\"T_fe0a497c_cf52_11ea_9194_0242ac1c0002row1_col1\" class=\"data row1 col1\" >0.610504</td>\n",
              "                        <td id=\"T_fe0a497c_cf52_11ea_9194_0242ac1c0002row1_col2\" class=\"data row1 col2\" >0.645126</td>\n",
              "                        <td id=\"T_fe0a497c_cf52_11ea_9194_0242ac1c0002row1_col3\" class=\"data row1 col3\" >0.575136</td>\n",
              "            </tr>\n",
              "            <tr>\n",
              "                        <th id=\"T_fe0a497c_cf52_11ea_9194_0242ac1c0002level0_row2\" class=\"row_heading level0 row2\" >2</th>\n",
              "                        <td id=\"T_fe0a497c_cf52_11ea_9194_0242ac1c0002row2_col0\" class=\"data row2 col0\" >0.637179</td>\n",
              "                        <td id=\"T_fe0a497c_cf52_11ea_9194_0242ac1c0002row2_col1\" class=\"data row2 col1\" >0.611158</td>\n",
              "                        <td id=\"T_fe0a497c_cf52_11ea_9194_0242ac1c0002row2_col2\" class=\"data row2 col2\" >0.646998</td>\n",
              "                        <td id=\"T_fe0a497c_cf52_11ea_9194_0242ac1c0002row2_col3\" class=\"data row2 col3\" >0.596980</td>\n",
              "            </tr>\n",
              "            <tr>\n",
              "                        <th id=\"T_fe0a497c_cf52_11ea_9194_0242ac1c0002level0_row3\" class=\"row_heading level0 row3\" >mean</th>\n",
              "                        <td id=\"T_fe0a497c_cf52_11ea_9194_0242ac1c0002row3_col0\" class=\"data row3 col0\" >0.636669</td>\n",
              "                        <td id=\"T_fe0a497c_cf52_11ea_9194_0242ac1c0002row3_col1\" class=\"data row3 col1\" >0.613763</td>\n",
              "                        <td id=\"T_fe0a497c_cf52_11ea_9194_0242ac1c0002row3_col2\" class=\"data row3 col2\" >0.646402</td>\n",
              "                        <td id=\"T_fe0a497c_cf52_11ea_9194_0242ac1c0002row3_col3\" class=\"data row3 col3\" >0.595119</td>\n",
              "            </tr>\n",
              "            <tr>\n",
              "                        <th id=\"T_fe0a497c_cf52_11ea_9194_0242ac1c0002level0_row4\" class=\"row_heading level0 row4\" >std</th>\n",
              "                        <td id=\"T_fe0a497c_cf52_11ea_9194_0242ac1c0002row4_col0\" class=\"data row4 col0\" >0.004894</td>\n",
              "                        <td id=\"T_fe0a497c_cf52_11ea_9194_0242ac1c0002row4_col1\" class=\"data row4 col1\" >0.005089</td>\n",
              "                        <td id=\"T_fe0a497c_cf52_11ea_9194_0242ac1c0002row4_col2\" class=\"data row4 col2\" >0.001105</td>\n",
              "                        <td id=\"T_fe0a497c_cf52_11ea_9194_0242ac1c0002row4_col3\" class=\"data row4 col3\" >0.019121</td>\n",
              "            </tr>\n",
              "    </tbody></table>"
            ],
            "text/plain": [
              "<pandas.io.formats.style.Styler at 0x7fa05078cda0>"
            ]
          },
          "metadata": {
            "tags": []
          },
          "execution_count": 10
        }
      ]
    },
    {
      "cell_type": "markdown",
      "metadata": {
        "id": "7uIb4QMH2DeM"
      },
      "source": [
        "\n",
        "\n",
        "As you can see we gain a few percentage points of macro recall compared with Naive Bayes. We can even go further by using normalized word counts with TF-IDF:"
      ]
    },
    {
      "cell_type": "code",
      "metadata": {
        "id": "HnaKRt9U_PzS",
        "colab": {
          "base_uri": "https://localhost:8080/",
          "height": 166
        },
        "outputId": "7fe9ecdc-cea5-478d-d00f-3435d8c9b1fa"
      },
      "source": [
        "evaluate_model(\n",
        "    log_reg,\n",
        "    BagOfWords(use_tfidf=True).fit_transform(tweets_train_tokenized),\n",
        "    tweets_train_y)"
      ],
      "execution_count": null,
      "outputs": [
        {
          "output_type": "execute_result",
          "data": {
            "text/html": [
              "<style  type=\"text/css\" >\n",
              "    #T_032d7dc0_cf53_11ea_9194_0242ac1c0002row0_col0 {\n",
              "            background-color:  white;\n",
              "        }    #T_032d7dc0_cf53_11ea_9194_0242ac1c0002row0_col1 {\n",
              "            background-color:  white;\n",
              "        }    #T_032d7dc0_cf53_11ea_9194_0242ac1c0002row0_col2 {\n",
              "            background-color:  white;\n",
              "        }    #T_032d7dc0_cf53_11ea_9194_0242ac1c0002row0_col3 {\n",
              "            background-color:  white;\n",
              "        }    #T_032d7dc0_cf53_11ea_9194_0242ac1c0002row1_col0 {\n",
              "            background-color:  white;\n",
              "        }    #T_032d7dc0_cf53_11ea_9194_0242ac1c0002row1_col1 {\n",
              "            background-color:  white;\n",
              "        }    #T_032d7dc0_cf53_11ea_9194_0242ac1c0002row1_col2 {\n",
              "            background-color:  white;\n",
              "        }    #T_032d7dc0_cf53_11ea_9194_0242ac1c0002row1_col3 {\n",
              "            background-color:  white;\n",
              "        }    #T_032d7dc0_cf53_11ea_9194_0242ac1c0002row2_col0 {\n",
              "            background-color:  white;\n",
              "        }    #T_032d7dc0_cf53_11ea_9194_0242ac1c0002row2_col1 {\n",
              "            background-color:  white;\n",
              "        }    #T_032d7dc0_cf53_11ea_9194_0242ac1c0002row2_col2 {\n",
              "            background-color:  white;\n",
              "        }    #T_032d7dc0_cf53_11ea_9194_0242ac1c0002row2_col3 {\n",
              "            background-color:  white;\n",
              "        }    #T_032d7dc0_cf53_11ea_9194_0242ac1c0002row3_col0 {\n",
              "            background-color:  yellow;\n",
              "        }    #T_032d7dc0_cf53_11ea_9194_0242ac1c0002row3_col1 {\n",
              "            background-color:  yellow;\n",
              "        }    #T_032d7dc0_cf53_11ea_9194_0242ac1c0002row3_col2 {\n",
              "            background-color:  yellow;\n",
              "        }    #T_032d7dc0_cf53_11ea_9194_0242ac1c0002row3_col3 {\n",
              "            background-color:  yellow;\n",
              "        }    #T_032d7dc0_cf53_11ea_9194_0242ac1c0002row4_col0 {\n",
              "            background-color:  white;\n",
              "        }    #T_032d7dc0_cf53_11ea_9194_0242ac1c0002row4_col1 {\n",
              "            background-color:  white;\n",
              "        }    #T_032d7dc0_cf53_11ea_9194_0242ac1c0002row4_col2 {\n",
              "            background-color:  white;\n",
              "        }    #T_032d7dc0_cf53_11ea_9194_0242ac1c0002row4_col3 {\n",
              "            background-color:  white;\n",
              "        }</style><table id=\"T_032d7dc0_cf53_11ea_9194_0242ac1c0002\" ><thead>    <tr>        <th class=\"blank level0\" ></th>        <th class=\"col_heading level0 col0\" colspan=4>test</th>    </tr>    <tr>        <th class=\"blank level1\" ></th>        <th class=\"col_heading level1 col0\" >recall_macro</th>        <th class=\"col_heading level1 col1\" >f1_pos_neg</th>        <th class=\"col_heading level1 col2\" >accuracy</th>        <th class=\"col_heading level1 col3\" >recall_neg</th>    </tr></thead><tbody>\n",
              "                <tr>\n",
              "                        <th id=\"T_032d7dc0_cf53_11ea_9194_0242ac1c0002level0_row0\" class=\"row_heading level0 row0\" >0</th>\n",
              "                        <td id=\"T_032d7dc0_cf53_11ea_9194_0242ac1c0002row0_col0\" class=\"data row0 col0\" >0.656339</td>\n",
              "                        <td id=\"T_032d7dc0_cf53_11ea_9194_0242ac1c0002row0_col1\" class=\"data row0 col1\" >0.625988</td>\n",
              "                        <td id=\"T_032d7dc0_cf53_11ea_9194_0242ac1c0002row0_col2\" class=\"data row0 col2\" >0.653119</td>\n",
              "                        <td id=\"T_032d7dc0_cf53_11ea_9194_0242ac1c0002row0_col3\" class=\"data row0 col3\" >0.662408</td>\n",
              "            </tr>\n",
              "            <tr>\n",
              "                        <th id=\"T_032d7dc0_cf53_11ea_9194_0242ac1c0002level0_row1\" class=\"row_heading level0 row1\" >1</th>\n",
              "                        <td id=\"T_032d7dc0_cf53_11ea_9194_0242ac1c0002row1_col0\" class=\"data row1 col0\" >0.656458</td>\n",
              "                        <td id=\"T_032d7dc0_cf53_11ea_9194_0242ac1c0002row1_col1\" class=\"data row1 col1\" >0.627115</td>\n",
              "                        <td id=\"T_032d7dc0_cf53_11ea_9194_0242ac1c0002row1_col2\" class=\"data row1 col2\" >0.655574</td>\n",
              "                        <td id=\"T_032d7dc0_cf53_11ea_9194_0242ac1c0002row1_col3\" class=\"data row1 col3\" >0.655306</td>\n",
              "            </tr>\n",
              "            <tr>\n",
              "                        <th id=\"T_032d7dc0_cf53_11ea_9194_0242ac1c0002level0_row2\" class=\"row_heading level0 row2\" >2</th>\n",
              "                        <td id=\"T_032d7dc0_cf53_11ea_9194_0242ac1c0002row2_col0\" class=\"data row2 col0\" >0.658039</td>\n",
              "                        <td id=\"T_032d7dc0_cf53_11ea_9194_0242ac1c0002row2_col1\" class=\"data row2 col1\" >0.624048</td>\n",
              "                        <td id=\"T_032d7dc0_cf53_11ea_9194_0242ac1c0002row2_col2\" class=\"data row2 col2\" >0.656480</td>\n",
              "                        <td id=\"T_032d7dc0_cf53_11ea_9194_0242ac1c0002row2_col3\" class=\"data row2 col3\" >0.661634</td>\n",
              "            </tr>\n",
              "            <tr>\n",
              "                        <th id=\"T_032d7dc0_cf53_11ea_9194_0242ac1c0002level0_row3\" class=\"row_heading level0 row3\" >mean</th>\n",
              "                        <td id=\"T_032d7dc0_cf53_11ea_9194_0242ac1c0002row3_col0\" class=\"data row3 col0\" >0.656945</td>\n",
              "                        <td id=\"T_032d7dc0_cf53_11ea_9194_0242ac1c0002row3_col1\" class=\"data row3 col1\" >0.625717</td>\n",
              "                        <td id=\"T_032d7dc0_cf53_11ea_9194_0242ac1c0002row3_col2\" class=\"data row3 col2\" >0.655058</td>\n",
              "                        <td id=\"T_032d7dc0_cf53_11ea_9194_0242ac1c0002row3_col3\" class=\"data row3 col3\" >0.659783</td>\n",
              "            </tr>\n",
              "            <tr>\n",
              "                        <th id=\"T_032d7dc0_cf53_11ea_9194_0242ac1c0002level0_row4\" class=\"row_heading level0 row4\" >std</th>\n",
              "                        <td id=\"T_032d7dc0_cf53_11ea_9194_0242ac1c0002row4_col0\" class=\"data row4 col0\" >0.000949</td>\n",
              "                        <td id=\"T_032d7dc0_cf53_11ea_9194_0242ac1c0002row4_col1\" class=\"data row4 col1\" >0.001552</td>\n",
              "                        <td id=\"T_032d7dc0_cf53_11ea_9194_0242ac1c0002row4_col2\" class=\"data row4 col2\" >0.001739</td>\n",
              "                        <td id=\"T_032d7dc0_cf53_11ea_9194_0242ac1c0002row4_col3\" class=\"data row4 col3\" >0.003896</td>\n",
              "            </tr>\n",
              "    </tbody></table>"
            ],
            "text/plain": [
              "<pandas.io.formats.style.Styler at 0x7fa0a5102630>"
            ]
          },
          "metadata": {
            "tags": []
          },
          "execution_count": 11
        }
      ]
    },
    {
      "cell_type": "markdown",
      "metadata": {
        "id": "XR9-BBPPol08"
      },
      "source": [
        "Wow the macro recall jumped by more than 2% just from this simple normalization procedure.\n",
        "\n",
        "Finally let's experiment with BERT embeddings:"
      ]
    },
    {
      "cell_type": "code",
      "metadata": {
        "id": "gWepcvRHofhc",
        "colab": {
          "base_uri": "https://localhost:8080/",
          "height": 220
        },
        "outputId": "95d3816f-8ee2-4291-9cb5-434942c278d8"
      },
      "source": [
        "evaluate_model(\n",
        "    log_reg,\n",
        "    tweets_train_bert,\n",
        "    tweets_train_y)"
      ],
      "execution_count": null,
      "outputs": [
        {
          "output_type": "stream",
          "text": [
            "/usr/local/lib/python3.6/dist-packages/joblib/externals/loky/process_executor.py:691: UserWarning: A worker stopped while some jobs were given to the executor. This can be caused by a too short worker timeout or by a memory leak.\n",
            "  \"timeout or by a memory leak.\", UserWarning\n"
          ],
          "name": "stderr"
        },
        {
          "output_type": "execute_result",
          "data": {
            "text/html": [
              "<style  type=\"text/css\" >\n",
              "    #T_17103198_cf53_11ea_9194_0242ac1c0002row0_col0 {\n",
              "            background-color:  white;\n",
              "        }    #T_17103198_cf53_11ea_9194_0242ac1c0002row0_col1 {\n",
              "            background-color:  white;\n",
              "        }    #T_17103198_cf53_11ea_9194_0242ac1c0002row0_col2 {\n",
              "            background-color:  white;\n",
              "        }    #T_17103198_cf53_11ea_9194_0242ac1c0002row0_col3 {\n",
              "            background-color:  white;\n",
              "        }    #T_17103198_cf53_11ea_9194_0242ac1c0002row1_col0 {\n",
              "            background-color:  white;\n",
              "        }    #T_17103198_cf53_11ea_9194_0242ac1c0002row1_col1 {\n",
              "            background-color:  white;\n",
              "        }    #T_17103198_cf53_11ea_9194_0242ac1c0002row1_col2 {\n",
              "            background-color:  white;\n",
              "        }    #T_17103198_cf53_11ea_9194_0242ac1c0002row1_col3 {\n",
              "            background-color:  white;\n",
              "        }    #T_17103198_cf53_11ea_9194_0242ac1c0002row2_col0 {\n",
              "            background-color:  white;\n",
              "        }    #T_17103198_cf53_11ea_9194_0242ac1c0002row2_col1 {\n",
              "            background-color:  white;\n",
              "        }    #T_17103198_cf53_11ea_9194_0242ac1c0002row2_col2 {\n",
              "            background-color:  white;\n",
              "        }    #T_17103198_cf53_11ea_9194_0242ac1c0002row2_col3 {\n",
              "            background-color:  white;\n",
              "        }    #T_17103198_cf53_11ea_9194_0242ac1c0002row3_col0 {\n",
              "            background-color:  yellow;\n",
              "        }    #T_17103198_cf53_11ea_9194_0242ac1c0002row3_col1 {\n",
              "            background-color:  yellow;\n",
              "        }    #T_17103198_cf53_11ea_9194_0242ac1c0002row3_col2 {\n",
              "            background-color:  yellow;\n",
              "        }    #T_17103198_cf53_11ea_9194_0242ac1c0002row3_col3 {\n",
              "            background-color:  yellow;\n",
              "        }    #T_17103198_cf53_11ea_9194_0242ac1c0002row4_col0 {\n",
              "            background-color:  white;\n",
              "        }    #T_17103198_cf53_11ea_9194_0242ac1c0002row4_col1 {\n",
              "            background-color:  white;\n",
              "        }    #T_17103198_cf53_11ea_9194_0242ac1c0002row4_col2 {\n",
              "            background-color:  white;\n",
              "        }    #T_17103198_cf53_11ea_9194_0242ac1c0002row4_col3 {\n",
              "            background-color:  white;\n",
              "        }</style><table id=\"T_17103198_cf53_11ea_9194_0242ac1c0002\" ><thead>    <tr>        <th class=\"blank level0\" ></th>        <th class=\"col_heading level0 col0\" colspan=4>test</th>    </tr>    <tr>        <th class=\"blank level1\" ></th>        <th class=\"col_heading level1 col0\" >recall_macro</th>        <th class=\"col_heading level1 col1\" >f1_pos_neg</th>        <th class=\"col_heading level1 col2\" >accuracy</th>        <th class=\"col_heading level1 col3\" >recall_neg</th>    </tr></thead><tbody>\n",
              "                <tr>\n",
              "                        <th id=\"T_17103198_cf53_11ea_9194_0242ac1c0002level0_row0\" class=\"row_heading level0 row0\" >0</th>\n",
              "                        <td id=\"T_17103198_cf53_11ea_9194_0242ac1c0002row0_col0\" class=\"data row0 col0\" >0.674462</td>\n",
              "                        <td id=\"T_17103198_cf53_11ea_9194_0242ac1c0002row0_col1\" class=\"data row0 col1\" >0.645385</td>\n",
              "                        <td id=\"T_17103198_cf53_11ea_9194_0242ac1c0002row0_col2\" class=\"data row0 col2\" >0.652455</td>\n",
              "                        <td id=\"T_17103198_cf53_11ea_9194_0242ac1c0002row0_col3\" class=\"data row0 col3\" >0.745645</td>\n",
              "            </tr>\n",
              "            <tr>\n",
              "                        <th id=\"T_17103198_cf53_11ea_9194_0242ac1c0002level0_row1\" class=\"row_heading level0 row1\" >1</th>\n",
              "                        <td id=\"T_17103198_cf53_11ea_9194_0242ac1c0002row1_col0\" class=\"data row1 col0\" >0.671421</td>\n",
              "                        <td id=\"T_17103198_cf53_11ea_9194_0242ac1c0002row1_col1\" class=\"data row1 col1\" >0.640748</td>\n",
              "                        <td id=\"T_17103198_cf53_11ea_9194_0242ac1c0002row1_col2\" class=\"data row1 col2\" >0.650079</td>\n",
              "                        <td id=\"T_17103198_cf53_11ea_9194_0242ac1c0002row1_col3\" class=\"data row1 col3\" >0.742835</td>\n",
              "            </tr>\n",
              "            <tr>\n",
              "                        <th id=\"T_17103198_cf53_11ea_9194_0242ac1c0002level0_row2\" class=\"row_heading level0 row2\" >2</th>\n",
              "                        <td id=\"T_17103198_cf53_11ea_9194_0242ac1c0002row2_col0\" class=\"data row2 col0\" >0.674438</td>\n",
              "                        <td id=\"T_17103198_cf53_11ea_9194_0242ac1c0002row2_col1\" class=\"data row2 col1\" >0.644842</td>\n",
              "                        <td id=\"T_17103198_cf53_11ea_9194_0242ac1c0002row2_col2\" class=\"data row2 col2\" >0.652857</td>\n",
              "                        <td id=\"T_17103198_cf53_11ea_9194_0242ac1c0002row2_col3\" class=\"data row2 col3\" >0.745257</td>\n",
              "            </tr>\n",
              "            <tr>\n",
              "                        <th id=\"T_17103198_cf53_11ea_9194_0242ac1c0002level0_row3\" class=\"row_heading level0 row3\" >mean</th>\n",
              "                        <td id=\"T_17103198_cf53_11ea_9194_0242ac1c0002row3_col0\" class=\"data row3 col0\" >0.673440</td>\n",
              "                        <td id=\"T_17103198_cf53_11ea_9194_0242ac1c0002row3_col1\" class=\"data row3 col1\" >0.643659</td>\n",
              "                        <td id=\"T_17103198_cf53_11ea_9194_0242ac1c0002row3_col2\" class=\"data row3 col2\" >0.651797</td>\n",
              "                        <td id=\"T_17103198_cf53_11ea_9194_0242ac1c0002row3_col3\" class=\"data row3 col3\" >0.744579</td>\n",
              "            </tr>\n",
              "            <tr>\n",
              "                        <th id=\"T_17103198_cf53_11ea_9194_0242ac1c0002level0_row4\" class=\"row_heading level0 row4\" >std</th>\n",
              "                        <td id=\"T_17103198_cf53_11ea_9194_0242ac1c0002row4_col0\" class=\"data row4 col0\" >0.001749</td>\n",
              "                        <td id=\"T_17103198_cf53_11ea_9194_0242ac1c0002row4_col1\" class=\"data row4 col1\" >0.002535</td>\n",
              "                        <td id=\"T_17103198_cf53_11ea_9194_0242ac1c0002row4_col2\" class=\"data row4 col2\" >0.001501</td>\n",
              "                        <td id=\"T_17103198_cf53_11ea_9194_0242ac1c0002row4_col3\" class=\"data row4 col3\" >0.001523</td>\n",
              "            </tr>\n",
              "    </tbody></table>"
            ],
            "text/plain": [
              "<pandas.io.formats.style.Styler at 0x7fa04eef61d0>"
            ]
          },
          "metadata": {
            "tags": []
          },
          "execution_count": 12
        }
      ]
    },
    {
      "cell_type": "markdown",
      "metadata": {
        "id": "Cgqv_LyWZCJw"
      },
      "source": [
        "This is our best performance so far! With BERT features we can reach **67% macro recall**.\n",
        "\n",
        "Can we improve this model even further? Before concluding this notebook, let's fine-tune our model hyper-parameters to optimize to the maximum potential of this model."
      ]
    },
    {
      "cell_type": "markdown",
      "metadata": {
        "id": "98kxO8A02DeN"
      },
      "source": [
        "### Fine-tuning the Model\n",
        "\n",
        "Here are some possible optimizations we can try:\n",
        "\n",
        "* **Standardization**: With simple linear classifier like Logistic Regression, it is always a good idea to normalize the features to have mean 0 and a standard deviation of 1.\n",
        "* **Regularization Strength**: Regularizing our model could help us improve the model generalization and performance on unseen data.\n",
        "* **Training Duration**: Training the model for more iterations can give it more time to converge. Previously we only trained with 100 iterations.\n",
        "\n"
      ]
    },
    {
      "cell_type": "code",
      "metadata": {
        "id": "kZAyDk5MTkX3",
        "colab": {
          "base_uri": "https://localhost:8080/",
          "height": 217
        },
        "outputId": "faadd37c-8857-42f6-8cdf-4e4a97ecb047"
      },
      "source": [
        "from sklearn.model_selection import GridSearchCV\n",
        "from sklearn.pipeline import Pipeline\n",
        "from sklearn.preprocessing import StandardScaler\n",
        "\n",
        "def grid_search_report(model, params, X, y, cv=3):\n",
        "    \n",
        "    grid_search = GridSearchCV(model, params, cv=cv, scoring='recall_macro', return_train_score=True, verbose=1, refit=False, n_jobs=-1)\n",
        "    grid_search.fit(X, y)\n",
        "\n",
        "    results = pd.DataFrame(grid_search.cv_results_)\n",
        "    keep_cols = ['param_' + p for p in params[0]]\n",
        "    keep_cols += ['mean_train_score', 'mean_test_score', 'std_test_score']\n",
        "    results = pd.DataFrame(grid_search.cv_results_).sort_values(by='mean_test_score', ascending=False).reset_index()\n",
        "    results = results[keep_cols]\n",
        "\n",
        "    def custom_style(row):\n",
        "        color = 'white'\n",
        "        if row.name == 0:\n",
        "            color = 'yellow'\n",
        "        return ['background-color: %s' % color]*len(row.values)\n",
        "    results = results.head(10).style.apply(custom_style, axis=1)\n",
        "\n",
        "    return results\n",
        "\n",
        "grid_search_report(\n",
        "    model=Pipeline([\n",
        "        ('standardization', StandardScaler()),\n",
        "        ('cls', LogisticRegression(multi_class='multinomial', solver='lbfgs', class_weight='balanced'))\n",
        "    ]),\n",
        "    params=[{\n",
        "        'cls__C': [None, 1.0, 0.1, 0.01, 0.001, 0.0001],\n",
        "    }],\n",
        "    X=tweets_train_bert,\n",
        "    y=tweets_train['label'].cat.codes,\n",
        ")"
      ],
      "execution_count": null,
      "outputs": [
        {
          "output_type": "stream",
          "text": [
            "Fitting 3 folds for each of 6 candidates, totalling 18 fits\n"
          ],
          "name": "stdout"
        },
        {
          "output_type": "stream",
          "text": [
            "[Parallel(n_jobs=-1)]: Using backend LokyBackend with 2 concurrent workers.\n",
            "[Parallel(n_jobs=-1)]: Done  18 out of  18 | elapsed:  2.3min finished\n"
          ],
          "name": "stderr"
        },
        {
          "output_type": "execute_result",
          "data": {
            "text/html": [
              "<style  type=\"text/css\" >\n",
              "    #T_68a23bc8_cf53_11ea_9194_0242ac1c0002row0_col0 {\n",
              "            background-color:  yellow;\n",
              "        }    #T_68a23bc8_cf53_11ea_9194_0242ac1c0002row0_col1 {\n",
              "            background-color:  yellow;\n",
              "        }    #T_68a23bc8_cf53_11ea_9194_0242ac1c0002row0_col2 {\n",
              "            background-color:  yellow;\n",
              "        }    #T_68a23bc8_cf53_11ea_9194_0242ac1c0002row0_col3 {\n",
              "            background-color:  yellow;\n",
              "        }    #T_68a23bc8_cf53_11ea_9194_0242ac1c0002row1_col0 {\n",
              "            background-color:  white;\n",
              "        }    #T_68a23bc8_cf53_11ea_9194_0242ac1c0002row1_col1 {\n",
              "            background-color:  white;\n",
              "        }    #T_68a23bc8_cf53_11ea_9194_0242ac1c0002row1_col2 {\n",
              "            background-color:  white;\n",
              "        }    #T_68a23bc8_cf53_11ea_9194_0242ac1c0002row1_col3 {\n",
              "            background-color:  white;\n",
              "        }    #T_68a23bc8_cf53_11ea_9194_0242ac1c0002row2_col0 {\n",
              "            background-color:  white;\n",
              "        }    #T_68a23bc8_cf53_11ea_9194_0242ac1c0002row2_col1 {\n",
              "            background-color:  white;\n",
              "        }    #T_68a23bc8_cf53_11ea_9194_0242ac1c0002row2_col2 {\n",
              "            background-color:  white;\n",
              "        }    #T_68a23bc8_cf53_11ea_9194_0242ac1c0002row2_col3 {\n",
              "            background-color:  white;\n",
              "        }    #T_68a23bc8_cf53_11ea_9194_0242ac1c0002row3_col0 {\n",
              "            background-color:  white;\n",
              "        }    #T_68a23bc8_cf53_11ea_9194_0242ac1c0002row3_col1 {\n",
              "            background-color:  white;\n",
              "        }    #T_68a23bc8_cf53_11ea_9194_0242ac1c0002row3_col2 {\n",
              "            background-color:  white;\n",
              "        }    #T_68a23bc8_cf53_11ea_9194_0242ac1c0002row3_col3 {\n",
              "            background-color:  white;\n",
              "        }    #T_68a23bc8_cf53_11ea_9194_0242ac1c0002row4_col0 {\n",
              "            background-color:  white;\n",
              "        }    #T_68a23bc8_cf53_11ea_9194_0242ac1c0002row4_col1 {\n",
              "            background-color:  white;\n",
              "        }    #T_68a23bc8_cf53_11ea_9194_0242ac1c0002row4_col2 {\n",
              "            background-color:  white;\n",
              "        }    #T_68a23bc8_cf53_11ea_9194_0242ac1c0002row4_col3 {\n",
              "            background-color:  white;\n",
              "        }    #T_68a23bc8_cf53_11ea_9194_0242ac1c0002row5_col0 {\n",
              "            background-color:  white;\n",
              "        }    #T_68a23bc8_cf53_11ea_9194_0242ac1c0002row5_col1 {\n",
              "            background-color:  white;\n",
              "        }    #T_68a23bc8_cf53_11ea_9194_0242ac1c0002row5_col2 {\n",
              "            background-color:  white;\n",
              "        }    #T_68a23bc8_cf53_11ea_9194_0242ac1c0002row5_col3 {\n",
              "            background-color:  white;\n",
              "        }</style><table id=\"T_68a23bc8_cf53_11ea_9194_0242ac1c0002\" ><thead>    <tr>        <th class=\"blank level0\" ></th>        <th class=\"col_heading level0 col0\" >param_cls__C</th>        <th class=\"col_heading level0 col1\" >mean_train_score</th>        <th class=\"col_heading level0 col2\" >mean_test_score</th>        <th class=\"col_heading level0 col3\" >std_test_score</th>    </tr></thead><tbody>\n",
              "                <tr>\n",
              "                        <th id=\"T_68a23bc8_cf53_11ea_9194_0242ac1c0002level0_row0\" class=\"row_heading level0 row0\" >0</th>\n",
              "                        <td id=\"T_68a23bc8_cf53_11ea_9194_0242ac1c0002row0_col0\" class=\"data row0 col0\" >0.001000</td>\n",
              "                        <td id=\"T_68a23bc8_cf53_11ea_9194_0242ac1c0002row0_col1\" class=\"data row0 col1\" >0.696250</td>\n",
              "                        <td id=\"T_68a23bc8_cf53_11ea_9194_0242ac1c0002row0_col2\" class=\"data row0 col2\" >0.676795</td>\n",
              "                        <td id=\"T_68a23bc8_cf53_11ea_9194_0242ac1c0002row0_col3\" class=\"data row0 col3\" >0.002522</td>\n",
              "            </tr>\n",
              "            <tr>\n",
              "                        <th id=\"T_68a23bc8_cf53_11ea_9194_0242ac1c0002level0_row1\" class=\"row_heading level0 row1\" >1</th>\n",
              "                        <td id=\"T_68a23bc8_cf53_11ea_9194_0242ac1c0002row1_col0\" class=\"data row1 col0\" >0.010000</td>\n",
              "                        <td id=\"T_68a23bc8_cf53_11ea_9194_0242ac1c0002row1_col1\" class=\"data row1 col1\" >0.702407</td>\n",
              "                        <td id=\"T_68a23bc8_cf53_11ea_9194_0242ac1c0002row1_col2\" class=\"data row1 col2\" >0.673495</td>\n",
              "                        <td id=\"T_68a23bc8_cf53_11ea_9194_0242ac1c0002row1_col3\" class=\"data row1 col3\" >0.002558</td>\n",
              "            </tr>\n",
              "            <tr>\n",
              "                        <th id=\"T_68a23bc8_cf53_11ea_9194_0242ac1c0002level0_row2\" class=\"row_heading level0 row2\" >2</th>\n",
              "                        <td id=\"T_68a23bc8_cf53_11ea_9194_0242ac1c0002row2_col0\" class=\"data row2 col0\" >0.000100</td>\n",
              "                        <td id=\"T_68a23bc8_cf53_11ea_9194_0242ac1c0002row2_col1\" class=\"data row2 col1\" >0.679654</td>\n",
              "                        <td id=\"T_68a23bc8_cf53_11ea_9194_0242ac1c0002row2_col2\" class=\"data row2 col2\" >0.670958</td>\n",
              "                        <td id=\"T_68a23bc8_cf53_11ea_9194_0242ac1c0002row2_col3\" class=\"data row2 col3\" >0.003752</td>\n",
              "            </tr>\n",
              "            <tr>\n",
              "                        <th id=\"T_68a23bc8_cf53_11ea_9194_0242ac1c0002level0_row3\" class=\"row_heading level0 row3\" >3</th>\n",
              "                        <td id=\"T_68a23bc8_cf53_11ea_9194_0242ac1c0002row3_col0\" class=\"data row3 col0\" >1.000000</td>\n",
              "                        <td id=\"T_68a23bc8_cf53_11ea_9194_0242ac1c0002row3_col1\" class=\"data row3 col1\" >0.702548</td>\n",
              "                        <td id=\"T_68a23bc8_cf53_11ea_9194_0242ac1c0002row3_col2\" class=\"data row3 col2\" >0.670369</td>\n",
              "                        <td id=\"T_68a23bc8_cf53_11ea_9194_0242ac1c0002row3_col3\" class=\"data row3 col3\" >0.002391</td>\n",
              "            </tr>\n",
              "            <tr>\n",
              "                        <th id=\"T_68a23bc8_cf53_11ea_9194_0242ac1c0002level0_row4\" class=\"row_heading level0 row4\" >4</th>\n",
              "                        <td id=\"T_68a23bc8_cf53_11ea_9194_0242ac1c0002row4_col0\" class=\"data row4 col0\" >0.100000</td>\n",
              "                        <td id=\"T_68a23bc8_cf53_11ea_9194_0242ac1c0002row4_col1\" class=\"data row4 col1\" >0.702850</td>\n",
              "                        <td id=\"T_68a23bc8_cf53_11ea_9194_0242ac1c0002row4_col2\" class=\"data row4 col2\" >0.670230</td>\n",
              "                        <td id=\"T_68a23bc8_cf53_11ea_9194_0242ac1c0002row4_col3\" class=\"data row4 col3\" >0.002478</td>\n",
              "            </tr>\n",
              "            <tr>\n",
              "                        <th id=\"T_68a23bc8_cf53_11ea_9194_0242ac1c0002level0_row5\" class=\"row_heading level0 row5\" >5</th>\n",
              "                        <td id=\"T_68a23bc8_cf53_11ea_9194_0242ac1c0002row5_col0\" class=\"data row5 col0\" >None</td>\n",
              "                        <td id=\"T_68a23bc8_cf53_11ea_9194_0242ac1c0002row5_col1\" class=\"data row5 col1\" >nan</td>\n",
              "                        <td id=\"T_68a23bc8_cf53_11ea_9194_0242ac1c0002row5_col2\" class=\"data row5 col2\" >nan</td>\n",
              "                        <td id=\"T_68a23bc8_cf53_11ea_9194_0242ac1c0002row5_col3\" class=\"data row5 col3\" >nan</td>\n",
              "            </tr>\n",
              "    </tbody></table>"
            ],
            "text/plain": [
              "<pandas.io.formats.style.Styler at 0x7f9fc2f7e550>"
            ]
          },
          "metadata": {
            "tags": []
          },
          "execution_count": 13
        }
      ]
    },
    {
      "cell_type": "markdown",
      "metadata": {
        "id": "GuvPogw-ZGU8"
      },
      "source": [
        "We gain a bit of extra performance through this ultimate fine-tuning. We can now retrain our final model on the full dataset with the optimal hyper-parameters before evaluating on the test set."
      ]
    },
    {
      "cell_type": "code",
      "metadata": {
        "id": "2EqFX8ydasSd",
        "colab": {
          "base_uri": "https://localhost:8080/",
          "height": 221
        },
        "outputId": "c3878dd4-0943-4939-c003-3a39756b7900"
      },
      "source": [
        "final_model = Pipeline([\n",
        "    ('standardization', StandardScaler()),\n",
        "    ('cls', LogisticRegression(multi_class='multinomial', solver='lbfgs', class_weight='balanced', C=0.001, max_iter=1000))\n",
        "])\n",
        "\n",
        "final_model.fit(tweets_train_bert, tweets_train_y)"
      ],
      "execution_count": null,
      "outputs": [
        {
          "output_type": "execute_result",
          "data": {
            "text/plain": [
              "Pipeline(memory=None,\n",
              "         steps=[('standardization',\n",
              "                 StandardScaler(copy=True, with_mean=True, with_std=True)),\n",
              "                ('cls',\n",
              "                 LogisticRegression(C=0.001, class_weight='balanced',\n",
              "                                    dual=False, fit_intercept=True,\n",
              "                                    intercept_scaling=1, l1_ratio=None,\n",
              "                                    max_iter=1000, multi_class='multinomial',\n",
              "                                    n_jobs=None, penalty='l2',\n",
              "                                    random_state=None, solver='lbfgs',\n",
              "                                    tol=0.0001, verbose=0, warm_start=False))],\n",
              "         verbose=False)"
            ]
          },
          "metadata": {
            "tags": []
          },
          "execution_count": 14
        }
      ]
    },
    {
      "cell_type": "markdown",
      "metadata": {
        "id": "xxEz8cMU2De0"
      },
      "source": [
        "# Estimating the Generalization Error\n",
        "\n",
        "Now it's time to measure our final error on the official test set. We will need to convert the test messages in the same way as the training data, transforming words into sentence-level BERT embeddings:"
      ]
    },
    {
      "cell_type": "code",
      "metadata": {
        "id": "harajWJl-TAo",
        "colab": {
          "base_uri": "https://localhost:8080/",
          "height": 153
        },
        "outputId": "22a84ba8-c203-40b7-a77d-d23f5c5f20d9"
      },
      "source": [
        "tweets_test = load_dataframe('Subtask_A/gold/SemEval2017-task4-test.subtask-A.english.txt')\n",
        "tweets_test['message'] = preprocess_messages(tweets_test['message'])\n",
        "tweets_test_bert = BertEmbeddings(device='cuda').transform(tweets_test['message'].to_numpy())\n",
        "tweets_test_y = tweets_test['label'].map(lambda label: labels_codes[label])\n",
        "\n",
        "print('\\nTotal number of examples for testing: {}\\nDistribution of classes:\\n{}'.format(\n",
        "    len(tweets_test),\n",
        "    tweets_test['label'].value_counts() / len(tweets_test),\n",
        "))"
      ],
      "execution_count": null,
      "outputs": [
        {
          "output_type": "stream",
          "text": [
            "100%|██████████| 384/384 [00:36<00:00, 10.61it/s]"
          ],
          "name": "stderr"
        },
        {
          "output_type": "stream",
          "text": [
            "\n",
            "Total number of examples for testing: 12284\n",
            "Distribution of classes:\n",
            "neutral     0.483312\n",
            "negative    0.323347\n",
            "positive    0.193341\n",
            "Name: label, dtype: float64\n"
          ],
          "name": "stdout"
        },
        {
          "output_type": "stream",
          "text": [
            "\n"
          ],
          "name": "stderr"
        }
      ]
    },
    {
      "cell_type": "code",
      "metadata": {
        "id": "Rsl8pMWMZ88a",
        "colab": {
          "base_uri": "https://localhost:8080/",
          "height": 187
        },
        "outputId": "7e98d6df-b6c0-45a1-c8c1-6d2d21f15cd0"
      },
      "source": [
        "tweets_test_predictions = final_model.predict(tweets_test_bert)\n",
        "print(metrics.classification_report(tweets_test_y, tweets_test_predictions, target_names=labels))"
      ],
      "execution_count": null,
      "outputs": [
        {
          "output_type": "stream",
          "text": [
            "              precision    recall  f1-score   support\n",
            "\n",
            "    negative       0.58      0.81      0.68      3972\n",
            "     neutral       0.70      0.57      0.63      5937\n",
            "    positive       0.65      0.55      0.60      2375\n",
            "\n",
            "    accuracy                           0.64     12284\n",
            "   macro avg       0.65      0.64      0.63     12284\n",
            "weighted avg       0.66      0.64      0.64     12284\n",
            "\n"
          ],
          "name": "stdout"
        }
      ]
    },
    {
      "cell_type": "markdown",
      "metadata": {
        "id": "S324D0hNfsGI"
      },
      "source": [
        "Our final score is **64% macro recall** and **65% accuracy**. Notice how much sensitive our model is towards the negative class, where it achieves a high recall of 81%. This is due to how we trained our logistic regression. By specifying `class_weight='balanced'`, we told Scikit-learn to pay much more attention to errors on the negative class. Because there were less negative  examples in the training data, the model had to compensate by adding bias for predicting this class more often.\n",
        "\n",
        "You may notice that our final model's macro recall is not as high as the best score from the official SemEval competition (68.1%). This is because we only used a **simple logistic regression classifier** to keep things simple and practical for this introduction.\n",
        "\n",
        "However there are many improvements possible over our current model such as:\n",
        "* Adding depth to our classifier by turning our logistic regression model into a neural network with more than one layer.\n",
        "* Using a recurrent neural network (eg. LSTM) to take advantage of individual word embeddings instead of averaging into a message-level representation.\n",
        "* Fine-tuning the entire BERT model directly on our dataset instead of extracting embeddings to use in a separate logistic regression model.\n",
        "\n",
        "Although we obtained the best performance using BERT, the bags of words classifier is probably the most practical option if you are looking to easily deploy an API to serve a web application, thanks to its lightness. If you have access to more resources you could also deploy BERT encodings for extra-performance. You might also want to look at smaller and faster versions of BERT like [DistilBERT](https://arxiv.org/abs/1910.01108) to speed things up."
      ]
    }
  ]
}